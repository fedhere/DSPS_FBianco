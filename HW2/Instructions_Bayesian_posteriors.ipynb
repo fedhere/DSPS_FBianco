{
  "nbformat": 4,
  "nbformat_minor": 0,
  "metadata": {
    "colab": {
      "provenance": [],
      "authorship_tag": "ABX9TyOV5rlaYGYo9+iyItmTs0Ah",
      "include_colab_link": true
    },
    "kernelspec": {
      "name": "python3",
      "display_name": "Python 3"
    },
    "language_info": {
      "name": "python"
    }
  },
  "cells": [
    {
      "cell_type": "markdown",
      "metadata": {
        "id": "view-in-github",
        "colab_type": "text"
      },
      "source": [
        "<a href=\"https://colab.research.google.com/github/fedhere/DSPS_FBianco/blob/main/HW2/Instructions_Bayesian_posteriors.ipynb\" target=\"_parent\"><img src=\"https://colab.research.google.com/assets/colab-badge.svg\" alt=\"Open In Colab\"/></a>"
      ]
    },
    {
      "cell_type": "markdown",
      "source": [
        "# Do priors matter??"
      ],
      "metadata": {
        "id": "0P3y1m-A6xhe"
      }
    },
    {
      "cell_type": "markdown",
      "source": [
        "Inspired by https://twitter.com/rlmcelreath/status/1701165078949581182/photo/1\n",
        "\n",
        "Use `scipy.stats` to generate four distributions:\n",
        "- a standard normal with mean 0, variance 1\n",
        "- a standard normal with mean 10, variance 1\n",
        "- a student's with 2 degrees of freedom centered on 0\n",
        "- a student's with 2 degrees of freedom centered on 10\n",
        "\n",
        "Plot all the distributions\n",
        "\n",
        "\n",
        "Create a function that takes a prior, a likelihood as arguments and plots the prior, likelihood, and posterior (normalize each so that the peak is at the same height for optimal visibility)\n",
        "\n",
        "Pass to the function each combination of prior and likelihood between the four distributions you creted: normal-normal, t-t, normal-t, t-normal\n",
        "\n",
        "Plot the posterior and priors in the same plot for each of the four posterior distributions (4 plots)\n",
        "\n"
      ],
      "metadata": {
        "id": "Wx5qfYTE5k0e"
      }
    },
    {
      "cell_type": "code",
      "execution_count": null,
      "metadata": {
        "id": "vnSiCdqE4HPB"
      },
      "outputs": [],
      "source": [
        "#these are all the imports you need\n",
        "import numpy as np\n",
        "import matplotlib.pyplot as plt\n",
        "from scipy import stats\n",
        "..."
      ]
    },
    {
      "cell_type": "code",
      "source": [
        "def posterior(p, l):\n",
        "  ..."
      ],
      "metadata": {
        "id": "3tmhRFAz4dta"
      },
      "execution_count": null,
      "outputs": []
    },
    {
      "cell_type": "code",
      "source": [
        "..."
      ],
      "metadata": {
        "id": "uJn5bN-t4fxc"
      },
      "execution_count": null,
      "outputs": []
    }
  ]
}