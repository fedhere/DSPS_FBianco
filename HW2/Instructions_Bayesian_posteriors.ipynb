{
  "nbformat": 4,
  "nbformat_minor": 0,
  "metadata": {
    "colab": {
      "provenance": [],
      "authorship_tag": "ABX9TyNXtVOsGO/tKqytG36/y5do",
      "include_colab_link": true
    },
    "kernelspec": {
      "name": "python3",
      "display_name": "Python 3"
    },
    "language_info": {
      "name": "python"
    }
  },
  "cells": [
    {
      "cell_type": "markdown",
      "metadata": {
        "id": "view-in-github",
        "colab_type": "text"
      },
      "source": [
        "<a href=\"https://colab.research.google.com/github/fedhere/DSPS_FBianco/blob/main/HW2/Instructions_Bayesian_posteriors.ipynb\" target=\"_parent\"><img src=\"https://colab.research.google.com/assets/colab-badge.svg\" alt=\"Open In Colab\"/></a>"
      ]
    },
    {
      "cell_type": "markdown",
      "source": [
        "# Do priors matter??"
      ],
      "metadata": {
        "id": "0P3y1m-A6xhe"
      }
    },
    {
      "cell_type": "markdown",
      "source": [
        "Inspired by https://twitter.com/rlmcelreath/status/1701165078949581182/photo/1\n",
        "\n",
        "TASK 1: Use `scipy.stats` to generate four distributions:\n",
        "- a standard normal with mean 0, variance 1\n",
        "- a standard normal with mean 10, variance 1\n",
        "- a student's with 2 degrees of freedom centered on 0\n",
        "- a student's with 2 degrees of freedom centered on 10\n",
        "\n",
        "Plot all the distributions.\n",
        "\n",
        "\n",
        "TASK 2: Create a function that takes two arguments: (1) a prior distribution (as a numpy array), (2) a likelihood distribution (same), calculates the posterior distributions, and plots the prior (with a black dashed line), likelihood (black solid line), and posterior (red line). Normalize each distribution before calculating the prior and plotting so that the peak is at the same height (for optimal visibility).\n",
        "\n",
        "TASK 3: Pass to the function each combination of prior and likelihood between the four distributions you creted: normal-normal, t-t, normal-t, t-normal.\n",
        "\n",
        "Your should end up with a plot of the posterior linelihood and prior in the same plot for each of the four posterior distributions (4 plots). EACH PLOT SHOULD BE FOLLOWED BY A CAPTION DESCRIBING THE WHAT THE WHY AND THE \"WOW\"\n",
        "\n"
      ],
      "metadata": {
        "id": "Wx5qfYTE5k0e"
      }
    },
    {
      "cell_type": "code",
      "execution_count": null,
      "metadata": {
        "id": "vnSiCdqE4HPB"
      },
      "outputs": [],
      "source": [
        "#these are all the imports you need\n",
        "import numpy as np\n",
        "import matplotlib.pyplot as plt\n",
        "from scipy import stats\n",
        "..."
      ]
    },
    {
      "cell_type": "code",
      "source": [
        "Norm_0 = ...\n",
        "Norm_10 = ...\n",
        "tStudent_0 = ...\n",
        "tStudent_10 = ...\n"
      ],
      "metadata": {
        "id": "KdtlQzj3L3ms"
      },
      "execution_count": null,
      "outputs": []
    },
    {
      "cell_type": "code",
      "source": [
        "def posterior(prior, likelihood):\n",
        "  normalized_prior = ...\n",
        "  normalized_likelihood = ...\n",
        "  this_posterior = ...\n",
        "  plt.plot ....\n",
        "  plt.plot ....\n",
        "  plt.plot ....\n",
        "  plt.xlabel.... #all plots need axis labels!!\n",
        "  plt.ylabel.... #all plots need axis labels!!"
      ],
      "metadata": {
        "id": "3tmhRFAz4dta"
      },
      "execution_count": null,
      "outputs": []
    },
    {
      "cell_type": "code",
      "source": [
        "#function call\n",
        "posterior(..."
      ],
      "metadata": {
        "id": "uJn5bN-t4fxc"
      },
      "execution_count": null,
      "outputs": []
    },
    {
      "cell_type": "markdown",
      "source": [
        "**Fig 1:** ...."
      ],
      "metadata": {
        "id": "-uhOIH7FMggt"
      }
    },
    {
      "cell_type": "code",
      "source": [
        "......"
      ],
      "metadata": {
        "id": "wNmIdHcpMmQb"
      },
      "execution_count": null,
      "outputs": []
    }
  ]
}