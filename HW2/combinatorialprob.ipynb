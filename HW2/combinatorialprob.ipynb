{
  "nbformat": 4,
  "nbformat_minor": 0,
  "metadata": {
    "colab": {
      "provenance": [],
      "authorship_tag": "ABX9TyOlono8z8hsxOjFCQnlS83n",
      "include_colab_link": true
    },
    "kernelspec": {
      "name": "python3",
      "display_name": "Python 3"
    },
    "language_info": {
      "name": "python"
    }
  },
  "cells": [
    {
      "cell_type": "markdown",
      "metadata": {
        "id": "view-in-github",
        "colab_type": "text"
      },
      "source": [
        "<a href=\"https://colab.research.google.com/github/fedhere/DSPS_FBianco/blob/main/HW2/combinatorialprob.ipynb\" target=\"_parent\"><img src=\"https://colab.research.google.com/assets/colab-badge.svg\" alt=\"Open In Colab\"/></a>"
      ]
    },
    {
      "cell_type": "markdown",
      "source": [
        "# PROBABILITY AND COMBINATORIAL MATH\n",
        "# ANSWER ALL QUESTIONS BELOW"
      ],
      "metadata": {
        "id": "oVVl2Ho8DMPP"
      }
    },
    {
      "cell_type": "code",
      "execution_count": 46,
      "metadata": {
        "id": "uLxenWwnvmQ2"
      },
      "outputs": [],
      "source": [
        "import numpy as np"
      ]
    },
    {
      "cell_type": "code",
      "source": [
        "!wget https://raw.githubusercontent.com/fedhere/DSPS_FBianco/refs/heads/main/.code/checkanswers1.py"
      ],
      "metadata": {
        "id": "YldnMu9Tv_xh"
      },
      "execution_count": null,
      "outputs": []
    },
    {
      "cell_type": "code",
      "source": [
        "from checkanswers1 import *"
      ],
      "metadata": {
        "id": "51ZbhBlJwD7Y"
      },
      "execution_count": 48,
      "outputs": []
    },
    {
      "cell_type": "markdown",
      "source": [
        "# Independent"
      ],
      "metadata": {
        "id": "lnXwG2X6vqQJ"
      }
    },
    {
      "cell_type": "markdown",
      "source": [
        "A and B are **indipendent** outcomes. Answer the following questions"
      ],
      "metadata": {
        "id": "pIa3AACMx17V"
      }
    },
    {
      "cell_type": "code",
      "source": [
        "P_A = 0.5\n",
        "P_B = 0.3"
      ],
      "metadata": {
        "id": "RaHOb4l3vtOB"
      },
      "execution_count": 49,
      "outputs": []
    },
    {
      "cell_type": "markdown",
      "source": [
        "**Q1: What is the intecept of P(A) and P(B) $P(A)\\cap P(B)$ (or P(A) AND P(B)**"
      ],
      "metadata": {
        "id": "k1w-aSQryEW0"
      }
    },
    {
      "cell_type": "code",
      "source": [
        "# fill in this cell\n",
        "P_A_intercept_B = ..."
      ],
      "metadata": {
        "id": "p8Th4yiczTzX"
      },
      "execution_count": 50,
      "outputs": []
    },
    {
      "cell_type": "markdown",
      "source": [
        "Continue to assuming that A and B are independent.\n",
        "\n",
        "**Q2: what is the probability of getting either A OR B in a draw**"
      ],
      "metadata": {
        "id": "-G_pD66L5D-N"
      }
    },
    {
      "cell_type": "code",
      "source": [
        "# fill in this cell with an equation using no hard coded numbers but the variables P_A and P_B\n",
        "P_A_or_B = #..."
      ],
      "metadata": {
        "id": "pgWW0AyOwrJx"
      },
      "execution_count": 51,
      "outputs": []
    },
    {
      "cell_type": "markdown",
      "source": [
        "Continue to assuming that A and B are independent.\n",
        "\n",
        "**Q3: what is the probability of A AND B as the two outcomes of two independent draws**"
      ],
      "metadata": {
        "id": "0zv5M1nny-7g"
      }
    },
    {
      "cell_type": "code",
      "source": [
        "# fill in this cell with an equation using no hard coded numbers but the variables P_A and P_B\n",
        "P_A_and_B = ....."
      ],
      "metadata": {
        "id": "rNYaOGD3vxv3"
      },
      "execution_count": null,
      "outputs": []
    },
    {
      "cell_type": "markdown",
      "source": [
        "Continue to assuming A and B are independent.\n",
        "\n",
        "**Q4: what is the $P(A|B)$ probability of A GIVEN B (i.e. probability that given that I drew B first, now I will draw A)**"
      ],
      "metadata": {
        "id": "BnV03j7_Byag"
      }
    },
    {
      "cell_type": "code",
      "source": [
        "# fill in this cell with an equation using no hard coded numbers but the variables P_A and P_B\n",
        "P_A_given_B = ..."
      ],
      "metadata": {
        "id": "UhQ4hcmpCLGa"
      },
      "execution_count": 52,
      "outputs": []
    },
    {
      "cell_type": "code",
      "source": [
        "#run this cell to see if you got the right answer\n",
        "print(\"Q1 answer\")\n",
        "check_independent_probAND(P_A_and_B)\n",
        "\n",
        "print(\"\\nQ2 answer\")\n",
        "check_independent_probOR(P_A_or_B)\n",
        "\n",
        "print(\"\\nQ3 answer\")\n",
        "check_independent_intersection(P_A_intercept_B)\n",
        "\n",
        "print(\"\\nQ4 answer\")\n",
        "check_independent_probGIVEN(P_A_given_B)"
      ],
      "metadata": {
        "colab": {
          "base_uri": "https://localhost:8080/"
        },
        "id": "XUQ4Gqohv2SC",
        "outputId": "30434b51-dbd0-4dca-befe-238ebd32970b"
      },
      "execution_count": 54,
      "outputs": [
        {
          "output_type": "stream",
          "name": "stdout",
          "text": [
            "Q1 answer\n",
            "CORRECT\n",
            "\n",
            "Q2 answer\n",
            "CORRECT\n",
            "\n",
            "Q3 answer\n",
            "CORRECT\n",
            "\n",
            "Q4 answer\n",
            "CORRECT\n"
          ]
        }
      ]
    },
    {
      "cell_type": "markdown",
      "source": [
        "# Complement"
      ],
      "metadata": {
        "id": "_miZRCVj52n3"
      }
    },
    {
      "cell_type": "markdown",
      "source": [
        "if AA is the complement of A (normally notiation is $\\bar{A}$)\n",
        "\n",
        "**Q5: what is the probability of A OR AA?**"
      ],
      "metadata": {
        "id": "7nSOE2r-xHKZ"
      }
    },
    {
      "cell_type": "code",
      "source": [
        "P_A_or_AA = ..."
      ],
      "metadata": {
        "id": "1QZYBWM-wzoX"
      },
      "execution_count": 55,
      "outputs": []
    },
    {
      "cell_type": "markdown",
      "source": [
        "**Q5: what is the probability of A AND AA?**"
      ],
      "metadata": {
        "id": "vA8o4WBADrnS"
      }
    },
    {
      "cell_type": "code",
      "source": [
        "P_A_and_AA = ..."
      ],
      "metadata": {
        "id": "hv3h9jkQDq9K"
      },
      "execution_count": null,
      "outputs": []
    },
    {
      "cell_type": "code",
      "source": [
        "# run this cell\n",
        "check_complement_probOR(P_A_or_AA)\n",
        "check_complement_probAND(P_A_and_AA)"
      ],
      "metadata": {
        "colab": {
          "base_uri": "https://localhost:8080/"
        },
        "collapsed": true,
        "id": "xWjxJyx8xjoJ",
        "outputId": "8665c882-065c-4213-d9d6-f4490ac71efb"
      },
      "execution_count": 56,
      "outputs": [
        {
          "output_type": "stream",
          "name": "stdout",
          "text": [
            "CORRECT\n",
            "CORRECT\n"
          ]
        }
      ]
    }
  ]
}