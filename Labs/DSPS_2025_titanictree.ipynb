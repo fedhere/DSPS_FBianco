{
  "nbformat": 4,
  "nbformat_minor": 0,
  "metadata": {
    "anaconda-cloud": {},
    "kernelspec": {
      "display_name": "Python 3",
      "language": "python",
      "name": "python3"
    },
    "language_info": {
      "codemirror_mode": {
        "name": "ipython",
        "version": 3
      },
      "file_extension": ".py",
      "mimetype": "text/x-python",
      "name": "python",
      "nbconvert_exporter": "python",
      "pygments_lexer": "ipython3",
      "version": "3.7.3"
    },
    "latex_envs": {
      "LaTeX_envs_menu_present": true,
      "autoclose": false,
      "autocomplete": true,
      "bibliofile": "biblio.bib",
      "cite_by": "apalike",
      "current_citInitial": 1,
      "eqLabelWithNumbers": true,
      "eqNumInitial": 1,
      "hotkeys": {
        "equation": "Ctrl-E",
        "itemize": "Ctrl-I"
      },
      "labels_anchors": false,
      "latex_user_defs": false,
      "report_style_numbering": false,
      "user_envs_cfg": false
    },
    "nbTranslate": {
      "displayLangs": [
        "*"
      ],
      "hotkey": "alt-t",
      "langInMainMenu": true,
      "sourceLang": "en",
      "targetLang": "fr",
      "useGoogleTranslate": true
    },
    "toc": {
      "base_numbering": 1,
      "nav_menu": {
        "height": "203px",
        "width": "252px"
      },
      "number_sections": false,
      "sideBar": true,
      "skip_h1_title": false,
      "title_cell": "Table of Contents",
      "title_sidebar": "Contents",
      "toc_cell": false,
      "toc_position": {},
      "toc_section_display": "block",
      "toc_window_display": false
    },
    "colab": {
      "provenance": [],
      "include_colab_link": true
    }
  },
  "cells": [
    {
      "cell_type": "markdown",
      "metadata": {
        "id": "view-in-github",
        "colab_type": "text"
      },
      "source": [
        "<a href=\"https://colab.research.google.com/github/fedhere/DSPS_FBianco/blob/main/Labs/DSPS_2025_titanictree.ipynb\" target=\"_parent\"><img src=\"https://colab.research.google.com/assets/colab-badge.svg\" alt=\"Open In Colab\"/></a>"
      ]
    },
    {
      "cell_type": "code",
      "metadata": {
        "ExecuteTime": {
          "end_time": "2019-10-28T03:54:27.722114Z",
          "start_time": "2019-10-28T03:54:26.787711Z"
        },
        "id": "gCbLLA_Bg12Z",
        "outputId": "59e22469-4c7d-42f0-eaab-fa56f5211f6b",
        "colab": {
          "base_uri": "https://localhost:8080/"
        }
      },
      "source": [
        "import pandas as pd\n",
        "import numpy as np\n",
        "import pylab as pl\n",
        "import os\n",
        "import json\n",
        "%pylab inline\n",
        "pl.style.use(\"https://raw.githubusercontent.com/fedhere/DSPS_FBianco/master/fbb.mplstyle\")"
      ],
      "execution_count": 2,
      "outputs": [
        {
          "output_type": "stream",
          "name": "stdout",
          "text": [
            "Populating the interactive namespace from numpy and matplotlib\n"
          ]
        }
      ]
    },
    {
      "cell_type": "markdown",
      "metadata": {
        "id": "iPgdtu9gsinm"
      },
      "source": [
        "# 1 reading data from kaggle"
      ]
    },
    {
      "cell_type": "code",
      "metadata": {
        "id": "pCUXEwM5g12d"
      },
      "source": [
        "pip install kaggle"
      ],
      "execution_count": null,
      "outputs": []
    },
    {
      "cell_type": "code",
      "metadata": {
        "id": "d8O5LOhWrF2s"
      },
      "source": [
        "from google.colab import drive\n",
        "\n",
        "drive.mount(\"/content/gdrive\")\n"
      ],
      "execution_count": null,
      "outputs": []
    },
    {
      "cell_type": "code",
      "metadata": {
        "id": "tFeYhc7icChm"
      },
      "source": [
        "cd /content/gdrive/MyDrive/"
      ],
      "execution_count": null,
      "outputs": []
    },
    {
      "cell_type": "markdown",
      "metadata": {
        "id": "Am1XS9yFu5_H"
      },
      "source": [
        "# create a file kaggle.json by requesting and API key to kaggle (under account)\n",
        "# https://www.kaggle.com/docs/api\n",
        "# and upload it to your google drive (manuallym outside of the notebook). Upload it to the general drive foloder and make sure it is still called kaggle.json\n",
        "\n",
        "Change the permission on the file so that it is secure and cannot be seen used others. The update the environmental variables KAGGLE_USERNAME and KAGGLE_KEY based on the values on the file\n",
        "\n",
        "\n",
        "The competition is https://www.kaggle.com/competitions/titanic/code and you need to join the competition on the website to get the data"
      ]
    },
    {
      "cell_type": "code",
      "metadata": {
        "id": "6_m5iYc-vHq7"
      },
      "source": [
        "ls kaggle/kaggle.json"
      ],
      "execution_count": null,
      "outputs": []
    },
    {
      "cell_type": "code",
      "metadata": {
        "id": "jsICrTrsvKMq"
      },
      "source": [
        "!chmod 600 kaggle/kaggle.json"
      ],
      "execution_count": null,
      "outputs": []
    },
    {
      "cell_type": "code",
      "metadata": {
        "id": "AbS20L4_mQry"
      },
      "source": [
        "\n",
        "envs = json.load(open(\"kaggle/kaggle.json\", \"r\"))\n",
        "os.environ[\"KAGGLE_USERNAME\"] = envs['username']\n",
        "os.environ[\"KAGGLE_KEY\"] = envs['key']"
      ],
      "execution_count": null,
      "outputs": []
    },
    {
      "cell_type": "code",
      "metadata": {
        "id": "fmjKsHsChHnm"
      },
      "source": [
        "#check that it worked by listing the kaggle datasets\n",
        "!kaggle datasets list"
      ],
      "execution_count": null,
      "outputs": []
    },
    {
      "cell_type": "code",
      "source": [
        "#make a directory dsps, go in that directory, create a subdirectory kaggleTitanic, download the data there, unzip it\n"
      ],
      "metadata": {
        "id": "f981PB4WiKxj"
      },
      "execution_count": null,
      "outputs": []
    },
    {
      "cell_type": "code",
      "metadata": {
        "id": "pFU00uNqv4gu"
      },
      "source": [],
      "execution_count": null,
      "outputs": []
    },
    {
      "cell_type": "code",
      "metadata": {
        "id": "JlZyIqNprVo_"
      },
      "source": [
        "#create a directory for these data\n"
      ],
      "execution_count": null,
      "outputs": []
    },
    {
      "cell_type": "code",
      "metadata": {
        "id": "mqDrRNAKrZy8"
      },
      "source": [],
      "execution_count": null,
      "outputs": []
    },
    {
      "cell_type": "markdown",
      "metadata": {
        "id": "f2U_0rHYv0Qk"
      },
      "source": [
        "download the titanic data into the directory you created for it"
      ]
    },
    {
      "cell_type": "code",
      "metadata": {
        "id": "Pk-m5nEZp7ua"
      },
      "source": [
        "!kaggle competitions download -c titanic"
      ],
      "execution_count": null,
      "outputs": []
    },
    {
      "cell_type": "code",
      "metadata": {
        "id": "k0oX-TFgp-df"
      },
      "source": [],
      "execution_count": null,
      "outputs": []
    },
    {
      "cell_type": "code",
      "source": [],
      "metadata": {
        "id": "tGRMz-QhiPLd"
      },
      "execution_count": null,
      "outputs": []
    },
    {
      "cell_type": "markdown",
      "metadata": {
        "id": "QnlbzVpwwSxU"
      },
      "source": [
        "read in the data"
      ]
    },
    {
      "cell_type": "code",
      "metadata": {
        "ExecuteTime": {
          "end_time": "2018-11-28T13:09:38.694413Z",
          "start_time": "2018-11-28T13:09:38.661437Z"
        },
        "id": "WXM9gKq6g12e"
      },
      "source": [
        "titanic = pd.read_csv(\"train.csv\")"
      ],
      "execution_count": null,
      "outputs": []
    },
    {
      "cell_type": "code",
      "metadata": {
        "ExecuteTime": {
          "end_time": "2018-11-28T13:09:38.712717Z",
          "start_time": "2018-11-28T13:09:38.700624Z"
        },
        "id": "Cswjv-15g12g"
      },
      "source": [
        "titanic.shape"
      ],
      "execution_count": null,
      "outputs": []
    },
    {
      "cell_type": "code",
      "source": [
        "titanic.dropna(subset=[\"Survived\", \"Sex\", \"Pclass\", \"Age\"], inplace=True)"
      ],
      "metadata": {
        "id": "IyA6ifZNkpRM"
      },
      "execution_count": null,
      "outputs": []
    },
    {
      "cell_type": "code",
      "metadata": {
        "ExecuteTime": {
          "end_time": "2018-11-28T13:09:38.844735Z",
          "start_time": "2018-11-28T13:09:38.803001Z"
        },
        "id": "PmupK5Jsg12j"
      },
      "source": [
        "titanic.head(3)"
      ],
      "execution_count": null,
      "outputs": []
    },
    {
      "cell_type": "markdown",
      "metadata": {
        "id": "SxLksqpssnuR"
      },
      "source": [
        "# 2 data cleaning and wrangling"
      ]
    },
    {
      "cell_type": "markdown",
      "metadata": {
        "id": "7FvP8SQGsqa6"
      },
      "source": [
        "### turn gender into numeric"
      ]
    },
    {
      "cell_type": "code",
      "metadata": {
        "ExecuteTime": {
          "end_time": "2018-11-28T13:09:39.069804Z",
          "start_time": "2018-11-28T13:09:39.012148Z"
        },
        "id": "W28RcjATg12k"
      },
      "source": [
        "..."
      ],
      "execution_count": null,
      "outputs": []
    },
    {
      "cell_type": "markdown",
      "metadata": {
        "id": "uRA3-q3DsuOi"
      },
      "source": [
        "\n",
        "\n",
        "### throw away data that you will not use"
      ]
    },
    {
      "cell_type": "code",
      "metadata": {
        "ExecuteTime": {
          "end_time": "2018-11-28T13:09:39.330446Z",
          "start_time": "2018-11-28T13:09:39.320109Z"
        },
        "id": "tIFPunfDg12m"
      },
      "source": [
        "..."
      ],
      "execution_count": null,
      "outputs": []
    },
    {
      "cell_type": "code",
      "metadata": {
        "ExecuteTime": {
          "end_time": "2018-11-28T13:09:39.541028Z",
          "start_time": "2018-11-28T13:09:39.530005Z"
        },
        "id": "yEpaxVgCg12o"
      },
      "source": [
        "titanic_short.values"
      ],
      "execution_count": null,
      "outputs": []
    },
    {
      "cell_type": "code",
      "metadata": {
        "ExecuteTime": {
          "end_time": "2018-11-28T13:09:39.771734Z",
          "start_time": "2018-11-28T13:09:39.763819Z"
        },
        "id": "gRsmE1Vrg12q"
      },
      "source": [
        "titanic[[\"Survived\"]].values.shape, titanic_short.shape"
      ],
      "execution_count": null,
      "outputs": []
    },
    {
      "cell_type": "markdown",
      "metadata": {
        "id": "-AZM8hC8s0WK"
      },
      "source": [
        "# 3 test the purity of various splits\n",
        "## first split"
      ]
    },
    {
      "cell_type": "markdown",
      "metadata": {
        "id": "MNAJzyWag12u"
      },
      "source": [
        "### split by gender"
      ]
    },
    {
      "cell_type": "code",
      "metadata": {
        "ExecuteTime": {
          "end_time": "2018-11-28T13:09:40.488815Z",
          "start_time": "2018-11-28T13:09:40.475944Z"
        },
        "run_control": {
          "marked": false
        },
        "id": "h_BcJqubg12u"
      },
      "source": [
        "print (\"Survived fraction\\n M     F \\n {0:.2f} {1:.2f}\".format\n",
        "    (((titanic_short.gender.values == 0) & (titanic.Survived.values == 1)).sum() * 1.0 /\n",
        "       (titanic_short.gender.values == 0).sum(),\n",
        "     ((titanic_short.gender.values == 1) & (titanic.Survived.values == 1)).sum() * 1.0 /\n",
        "       (titanic_short.gender.values == 1).sum()))"
      ],
      "execution_count": null,
      "outputs": []
    },
    {
      "cell_type": "code",
      "metadata": {
        "ExecuteTime": {
          "end_time": "2018-11-28T13:09:40.731240Z",
          "start_time": "2018-11-28T13:09:40.724366Z"
        },
        "id": "Buxu_UpFg12w"
      },
      "source": [
        "print (\"Died fraction\\n M     F \\n {0:.2f} {1:.2f}\".format\n",
        "    (((titanic_short.gender.values == 0) & (titanic.Survived.values == 0)).sum() * 1.0 /\n",
        "       (titanic_short.gender.values == 0).sum(),\n",
        "       ((titanic_short.gender.values == 1) & (titanic.Survived.values == 0)).sum() * 1.0 /\n",
        "      (titanic_short.gender.values == 1).sum()))"
      ],
      "execution_count": null,
      "outputs": []
    },
    {
      "cell_type": "markdown",
      "metadata": {
        "id": "knRmb0s1g12y"
      },
      "source": [
        "### split by age (at 6.5)"
      ]
    },
    {
      "cell_type": "code",
      "metadata": {
        "ExecuteTime": {
          "end_time": "2018-11-28T13:09:41.365283Z",
          "start_time": "2018-11-28T13:09:41.358825Z"
        },
        "id": "qNeFGsuzg12z"
      },
      "source": [
        "print (\"Survived fraction\\n >6.5  <6.5 \\n {0:.2f}  {1:.2f}\".format\n",
        "      (((titanic_short.Age.values >6.5) & (titanic.Survived.values == 1)).sum() * 1.0 /\n",
        "       (titanic_short.Age.values >6.5).sum(),\n",
        "      ((titanic_short.Age.values <=6.5) & (titanic.Survived.values == 1)).sum() * 1.0 /\n",
        "       (titanic_short.Age.values <=6.5).sum()))"
      ],
      "execution_count": null,
      "outputs": []
    },
    {
      "cell_type": "code",
      "metadata": {
        "ExecuteTime": {
          "end_time": "2018-11-28T13:09:41.800766Z",
          "start_time": "2018-11-28T13:09:41.788626Z"
        },
        "id": "CZZhLCPSg120"
      },
      "source": [
        "print (\"Died fraction\\n >6.5  <6.5 \\n {0:.2f}  {1:.2f}\".format\n",
        "      (((titanic_short.Age.values >6.5) & (titanic.Survived.values == 0)).sum() * 1.0 /\n",
        "       (titanic_short.Age.values >6.5).sum(),\n",
        "      ((titanic_short.Age.values <=6.5) & (titanic.Survived.values == 0)).sum() * 1.0 /\n",
        "       (titanic_short.Age.values <=6.5).sum()))"
      ],
      "execution_count": null,
      "outputs": []
    },
    {
      "cell_type": "markdown",
      "metadata": {
        "id": "wSRTJgwmg122"
      },
      "source": [
        "### split by travel class"
      ]
    },
    {
      "cell_type": "code",
      "metadata": {
        "ExecuteTime": {
          "end_time": "2018-11-28T13:09:42.656895Z",
          "start_time": "2018-11-28T13:09:42.642363Z"
        },
        "id": "Sms6s_E8g123"
      },
      "source": [
        "print (\"Survived fraction\\n 1st   2nd \\n {0:.2f}  {1:.2f}\".format\n",
        "     (((titanic_short.Pclass.values == 1) & (titanic.Survived.values == 1)).sum() * 1.0 /\n",
        "      (titanic_short.Pclass.values == 1).sum(),\n",
        "       ((titanic_short.Pclass.values == 2) & (titanic.Survived.values == 1)).sum() * 1.0 /\n",
        "      (titanic_short.Pclass.values == 2).sum()))"
      ],
      "execution_count": null,
      "outputs": []
    },
    {
      "cell_type": "code",
      "metadata": {
        "ExecuteTime": {
          "end_time": "2018-11-28T13:09:43.049658Z",
          "start_time": "2018-11-28T13:09:43.044122Z"
        },
        "id": "KS6RfFx_g124"
      },
      "source": [
        "print (\"Survived fraction\\n 2nd   3rd \\n {0:.2f}  {1:.2f}\".format\n",
        "      (((titanic_short.Pclass.values == 2) & (titanic.Survived.values == 1)).sum() * 1.0 /\n",
        "       (titanic_short.Pclass.values == 2).sum(),\n",
        "        ((titanic_short.Pclass.values == 3) & (titanic.Survived.values == 1)).sum() * 1.0 /\n",
        "      (titanic_short.Pclass.values == 3).sum()))"
      ],
      "execution_count": null,
      "outputs": []
    },
    {
      "cell_type": "code",
      "metadata": {
        "ExecuteTime": {
          "end_time": "2018-11-28T13:09:43.652574Z",
          "start_time": "2018-11-28T13:09:43.645860Z"
        },
        "id": "8unypVofg126"
      },
      "source": [
        "print (\"Survived fraction\\n 1st   3rd \\n {0:.2f}  {1:.2f}\".format\n",
        "      (((titanic_short.Pclass.values == 1) & (titanic.Survived.values == 1)).sum() * 1.0 /\n",
        "       (titanic_short.Pclass.values == 1).sum(),\n",
        "        ((titanic_short.Pclass.values == 3) & (titanic.Survived.values == 1)).sum() * 1.0 /\n",
        "      (titanic_short.Pclass.values == 3).sum()))"
      ],
      "execution_count": null,
      "outputs": []
    },
    {
      "cell_type": "code",
      "metadata": {
        "ExecuteTime": {
          "end_time": "2018-11-28T13:09:44.245202Z",
          "start_time": "2018-11-28T13:09:44.230460Z"
        },
        "id": "CILoiJb9g127"
      },
      "source": [
        "print (\"Survived fraction\\n 1st   2nd or 3rd \\n {0:.2f}  {1:.2f}\".format\n",
        "      (((titanic_short.Pclass.values == 1) & (titanic.Survived.values == 1)).sum() * 1.0 /\n",
        "       (titanic_short.Pclass.values == 1).sum(),\n",
        "        (((titanic_short.Pclass.values == 3) | (titanic_short.Pclass.values == 2)) & (titanic.Survived.values == 1)).sum() * 1.0 /\n",
        "      ((titanic_short.Pclass.values == 3) | (titanic_short.Pclass.values == 3)).sum()))"
      ],
      "execution_count": null,
      "outputs": []
    },
    {
      "cell_type": "markdown",
      "metadata": {
        "id": "TJBRNmgjg12-"
      },
      "source": [
        "# The purest split is by gender, so that is chosen as the first node"
      ]
    },
    {
      "cell_type": "markdown",
      "metadata": {
        "id": "1PaE2qUzg12_"
      },
      "source": [
        "# second split"
      ]
    },
    {
      "cell_type": "markdown",
      "metadata": {
        "id": "UHczabkDg12_"
      },
      "source": [
        "### by travel class"
      ]
    },
    {
      "cell_type": "code",
      "metadata": {
        "ExecuteTime": {
          "end_time": "2018-11-28T13:09:46.216158Z",
          "start_time": "2018-11-28T13:09:46.207263Z"
        },
        "run_control": {
          "marked": false
        },
        "id": "oT5_zuaRg13A"
      },
      "source": [
        "print (\"Survived fraction of females: \\n 1st   2nd,3rd\\n {0:.2f}  {1:.2f}\".format\n",
        "       (((titanic_short.gender.values == 1) &\n",
        "        (titanic_short.Pclass.values == 1) & (titanic.Survived.values == 1)).sum() * 1.0 /\n",
        "       ((titanic_short.gender.values == 1) & (titanic_short.Pclass.values == 1)).sum(),\n",
        "        ((titanic_short.gender.values == 1) &\n",
        "        ~(titanic_short.Pclass.values == 1) & (titanic.Survived.values == 1)).sum() * 1.0 /\n",
        "       ((titanic_short.gender.values == 1) & ~(titanic_short.Pclass.values == 1)).sum()))"
      ],
      "execution_count": null,
      "outputs": []
    },
    {
      "cell_type": "code",
      "metadata": {
        "ExecuteTime": {
          "end_time": "2018-11-28T13:09:46.907705Z",
          "start_time": "2018-11-28T13:09:46.893404Z"
        },
        "id": "dIWg-4X2g13C"
      },
      "source": [
        "print (\"Survived fraction of males: \\n 1st   2nd,3rd\\n {0:.2f}  {1:.2f}\".format\n",
        "        (((titanic_short.gender.values == 0) &\n",
        "        (titanic_short.Pclass.values == 1) & (titanic.Survived.values == 1)).sum() * 1.0 /\n",
        "       ((titanic_short.gender.values == 0) & (titanic_short.Pclass.values == 1)).sum(),\n",
        "        ((titanic_short.gender.values == 0) &\n",
        "        (~(titanic_short.Pclass.values == 1)) & (titanic.Survived.values == 1)).sum() * 1.0 /\n",
        "       ((titanic_short.gender.values == 0) & (~(titanic_short.Pclass.values == 1))).sum() ))"
      ],
      "execution_count": null,
      "outputs": []
    },
    {
      "cell_type": "markdown",
      "metadata": {
        "ExecuteTime": {
          "end_time": "2017-12-12T08:47:52.293498",
          "start_time": "2017-12-12T08:47:52.289236"
        },
        "id": "VYJwqL7Eg13H"
      },
      "source": [
        "### by age"
      ]
    },
    {
      "cell_type": "code",
      "metadata": {
        "ExecuteTime": {
          "end_time": "2018-11-28T13:09:48.097535Z",
          "start_time": "2018-11-28T13:09:48.084522Z"
        },
        "id": "p51dnJGLg13J"
      },
      "source": [
        "print (\"Survived fraction of females: \\n <6.5  >=6.5   \\n {0:.2f} {1:.2f}\".format\n",
        "        (((titanic_short.gender.values == 1) &\n",
        "        (titanic_short.Age.values < 6.5) & (titanic.Survived.values == 1)).sum() * 1.0 /\n",
        "       ((titanic_short.gender.values == 1) & (titanic_short.Age.values < 6.5)).sum(),\n",
        "\n",
        "       ((titanic_short.gender.values == 1) &\n",
        "        (titanic_short.Age.values >= 6.5) & (titanic.Survived.values == 1)).sum() * 1.0 /\n",
        "       ((titanic_short.gender.values == 1) & (titanic_short.Age.values >= 6.5)).sum()))"
      ],
      "execution_count": null,
      "outputs": []
    },
    {
      "cell_type": "code",
      "metadata": {
        "ExecuteTime": {
          "end_time": "2018-11-28T13:09:48.650616Z",
          "start_time": "2018-11-28T13:09:48.639223Z"
        },
        "id": "mW9H41Mqg13K"
      },
      "source": [
        "print (\"Survived fraction of males: \\n <6.5 >=6.5   \\n {0:.2f}  {1:.2f}\".format\n",
        "     (((titanic_short.gender.values == 0) &\n",
        "        (titanic_short.Age.values < 6.5) & (titanic.Survived.values == 1)).sum() * 1.0 /\n",
        "       ((titanic_short.gender.values == 0) & (titanic_short.Age.values < 6.5)).sum(),\n",
        "     ((titanic_short.gender.values == 0) &\n",
        "        (titanic_short.Age.values >= 6.5) & (titanic.Survived.values == 1)).sum() * 1.0 /\n",
        "       ((titanic_short.gender.values == 0) & (titanic_short.Age.values >= 6.5)).sum()))"
      ],
      "execution_count": null,
      "outputs": []
    },
    {
      "cell_type": "markdown",
      "metadata": {
        "id": "oEWlCoRpg13M"
      },
      "source": [
        "## The purest split is\n",
        "## - for females by travel class\n",
        "## - for males by age"
      ]
    },
    {
      "cell_type": "markdown",
      "metadata": {
        "id": "7S2SN4dSsejR"
      },
      "source": [
        "# 4 actually run a tree model"
      ]
    },
    {
      "cell_type": "code",
      "metadata": {
        "ExecuteTime": {
          "end_time": "2018-11-28T13:09:50.794182Z",
          "start_time": "2018-11-28T13:09:49.925197Z"
        },
        "id": "JI9y8ccgg13N"
      },
      "source": [
        "from sklearn import tree\n",
        "clf =  tree.DecisionTreeClassifier(max_depth=3, criterion=\"gini\",\n",
        "                        random_state=222).fit(titanic_short.values,\n",
        "                                              titanic[\"Survived\"])\n",
        "clf.score(titanic_short.values, titanic[\"Survived\"])"
      ],
      "execution_count": null,
      "outputs": []
    },
    {
      "cell_type": "code",
      "source": [
        "#run it again\n",
        "clf =  tree.DecisionTreeClassifier(max_depth=3, criterion=\"gini\",\n",
        "                        random_state=222).fit(titanic_short.values,\n",
        "                                              titanic[\"Survived\"])\n",
        "clf.score(titanic_short.values, titanic[\"Survived\"])"
      ],
      "metadata": {
        "id": "FExXub0cikBO"
      },
      "execution_count": null,
      "outputs": []
    },
    {
      "cell_type": "code",
      "source": [
        "from sklearn.model_selection import train_test_split\n",
        "X_train, X_test, y_train, y_test = train_test_split(titanic_short, titanic[\"Survived\"],\n",
        "                                                    train_size=0.75, shuffle=True, random_state=302)\n",
        "X_train.shape, y_train.shape, X_test.shape, y_test.shape"
      ],
      "metadata": {
        "id": "FFGj-0G7im5K"
      },
      "execution_count": null,
      "outputs": []
    },
    {
      "cell_type": "code",
      "source": [
        "\n",
        "clf =  tree.DecisionTreeClassifier(max_depth=3, criterion=\"gini\",\n",
        "                        random_state=222).fit(X_train,\n",
        "                                              y_train)\n",
        "print(f\"training accuracy {clf.score(X_train,  y_train):.2f}, testing accuracy {clf.score(X_test,  y_test):.2f}\")"
      ],
      "metadata": {
        "id": "7XFhhNokjFxO"
      },
      "execution_count": null,
      "outputs": []
    },
    {
      "cell_type": "code",
      "metadata": {
        "id": "tBOD-Xk1ckub"
      },
      "source": [
        "from sklearn.metrics import confusion_matrix\n",
        "def plot_confusion_matrix(y_true, y_pred,\n",
        "                          normalize=True,\n",
        "                          title='',\n",
        "                          cmap=plt.cm.Blues):\n",
        "    \"\"\"\n",
        "    This function prints and plots the confusion matrix.\n",
        "    Normalization can be applied by setting `normalize=True`.\n",
        "    \"\"\"\n",
        "    if normalize:\n",
        "          title = title + ' Normalized confusion matrix'\n",
        "    else:\n",
        "          title = title + ' Confusion matrix, without normalization'\n",
        "\n",
        "    # Compute confusion matrix\n",
        "    cm = confusion_matrix(y_true, y_pred)\n",
        "    # Only use the labels that appear in the data\n",
        "\n",
        "    pl.imshow(cm, cmap=\"bone\")\n",
        "    pl.title(title)\n",
        "    pl.colorbar()\n",
        "    pl.axis('off')"
      ],
      "execution_count": null,
      "outputs": []
    },
    {
      "cell_type": "code",
      "source": [
        "plot_confusion_matrix(clf.predict(X_test),\n",
        "                      y_test,\n",
        "                      title=\"Tree model\")"
      ],
      "metadata": {
        "id": "P97mMraRjugm"
      },
      "execution_count": null,
      "outputs": []
    },
    {
      "cell_type": "markdown",
      "metadata": {
        "id": "dJ9qzAzNsbcI"
      },
      "source": [
        "# 5 create the dendrogram viz"
      ]
    },
    {
      "cell_type": "code",
      "metadata": {
        "ExecuteTime": {
          "end_time": "2018-11-28T13:11:47.928354Z",
          "start_time": "2018-11-28T13:11:47.908993Z"
        },
        "id": "OepK1Xoog13P"
      },
      "source": [
        "import graphviz\n",
        "dot_data = tree.export_graphviz(clf, feature_names=titanic_short.columns,\n",
        "                                out_file=None)\n",
        "graph = graphviz.Source(dot_data)"
      ],
      "execution_count": null,
      "outputs": []
    },
    {
      "cell_type": "code",
      "metadata": {
        "ExecuteTime": {
          "end_time": "2018-11-28T13:11:50.327060Z",
          "start_time": "2018-11-28T13:11:49.158795Z"
        },
        "id": "y4qLKPb1g13Q"
      },
      "source": [
        "graph"
      ],
      "execution_count": null,
      "outputs": []
    },
    {
      "cell_type": "code",
      "metadata": {
        "ExecuteTime": {
          "end_time": "2017-12-12T10:14:58.113961",
          "start_time": "2017-12-12T10:14:57.944488"
        },
        "id": "hBaMY4rag13S"
      },
      "source": [
        "graph.render(\"TitanicTree\")"
      ],
      "execution_count": null,
      "outputs": []
    },
    {
      "cell_type": "markdown",
      "metadata": {
        "id": "idvKNoCvg13U"
      },
      "source": [
        "# 6 run ensamble method:\n",
        "## changing model to Random Forest"
      ]
    },
    {
      "cell_type": "code",
      "metadata": {
        "ExecuteTime": {
          "end_time": "2018-11-28T13:09:16.763505Z",
          "start_time": "2018-11-28T13:09:16.733856Z"
        },
        "id": "efrFemIHg13U"
      },
      "source": [
        "from sklearn import ensemble\n",
        "rf =  ensemble.RandomForestClassifier(max_depth=3, criterion=\"gini\",\n",
        "                                       random_state=222).fit(titanic_short.values,\n",
        "                                                             titanic[\"Survived\"])\n",
        "print (\"score %.2f\"%rf.score(titanic_short.values, titanic[\"Survived\"]))"
      ],
      "execution_count": null,
      "outputs": []
    },
    {
      "cell_type": "markdown",
      "metadata": {
        "id": "44eq5WgPg13V"
      },
      "source": [
        "changing max depth"
      ]
    },
    {
      "cell_type": "code",
      "metadata": {
        "ExecuteTime": {
          "end_time": "2018-11-28T13:09:18.181974Z",
          "start_time": "2018-11-28T13:09:18.155416Z"
        },
        "id": "E2ZxOEvPg13W"
      },
      "source": [
        "rf =  ensemble.RandomForestClassifier(max_depth=4, criterion=\"gini\", n_estimators=100,\n",
        "                                       random_state=222).fit(titanic_short.values,\n",
        "                                                             titanic[\"Survived\"])\n",
        "print (\"score %.2f\"%rf.score(titanic_short.values, titanic[\"Survived\"]))"
      ],
      "execution_count": null,
      "outputs": []
    },
    {
      "cell_type": "code",
      "metadata": {
        "ExecuteTime": {
          "end_time": "2018-11-28T13:09:18.413903Z",
          "start_time": "2018-11-28T13:09:18.378558Z"
        },
        "id": "7dbi9T2mg13Y"
      },
      "source": [
        "rf =  ensemble.RandomForestClassifier(criterion=\"gini\", max_depth=None, n_estimators=100,\n",
        "                                       random_state=222).fit(titanic_short.values,\n",
        "                                                             titanic[\"Survived\"])\n",
        "print (\"score %.2f\"%rf.score(titanic_short.values, titanic[\"Survived\"]))"
      ],
      "execution_count": null,
      "outputs": []
    },
    {
      "cell_type": "markdown",
      "metadata": {
        "id": "0Ae1iLdag13Z"
      },
      "source": [
        "## changing model to Gradient Boosted Trees"
      ]
    },
    {
      "cell_type": "code",
      "metadata": {
        "ExecuteTime": {
          "end_time": "2018-11-28T13:05:53.724656Z",
          "start_time": "2018-11-28T13:05:53.574109Z"
        },
        "id": "An_1eIupg13a"
      },
      "source": [
        "gbt =  ensemble.GradientBoostingClassifier(max_depth=4,\n",
        "                                           random_state=222).fit(titanic_short.values,\n",
        "                                                                 titanic[\"Survived\"])\n",
        "print (\"score %.2f\"%gbt.score(titanic_short.values, titanic[\"Survived\"]))"
      ],
      "execution_count": null,
      "outputs": []
    },
    {
      "cell_type": "markdown",
      "metadata": {
        "id": "8PI0S_w_zaYw"
      },
      "source": [
        "# 7 feature importance"
      ]
    },
    {
      "cell_type": "code",
      "metadata": {
        "ExecuteTime": {
          "end_time": "2018-11-28T13:05:54.310398Z",
          "start_time": "2018-11-28T13:05:54.241589Z"
        },
        "id": "WucpVurfg13c"
      },
      "source": [
        "print(\"Random Forest feature importance\")\n",
        "for f,fi in zip (titanic_short.columns, rf.feature_importances_):\n",
        "  print (f, fi.round(2))"
      ],
      "execution_count": null,
      "outputs": []
    },
    {
      "cell_type": "code",
      "metadata": {
        "id": "KelnceUSg13d"
      },
      "source": [
        "print(\"Gradient Boosted Tree feature importance\")\n",
        "for f,fi in zip (titanic_short.columns, gbt.feature_importances_):\n",
        "  print (f, fi.round(2))"
      ],
      "execution_count": null,
      "outputs": []
    },
    {
      "cell_type": "code",
      "metadata": {
        "id": "eLMUYDEccxBW"
      },
      "source": [
        "plot_confusion_matrix(rf.predict(titanic_short),\n",
        "                      titanic[\"Survived\"],\n",
        "                      title=\"RF \")"
      ],
      "execution_count": null,
      "outputs": []
    },
    {
      "cell_type": "code",
      "metadata": {
        "id": "uASTrvqSdMsL"
      },
      "source": [
        "plot_confusion_matrix(gbt.predict(titanic_short),\n",
        "                      titanic[\"Survived\"], title=\"GBT \")"
      ],
      "execution_count": null,
      "outputs": []
    },
    {
      "cell_type": "markdown",
      "metadata": {
        "id": "RsAA7VRWzPBN"
      },
      "source": [
        "## calculate feasture importance uncertainties for RF method"
      ]
    },
    {
      "cell_type": "code",
      "metadata": {
        "id": "-xEii2LnuTPw"
      },
      "source": [
        "fistd = np.std([tree.feature_importances_ for tree in rf.estimators_],\n",
        "             axis=0)\n",
        "print(\"Random Forest feature importance\")\n",
        "for f, fi, s in zip (titanic_short.columns, rf.feature_importances_, fistd):\n",
        "  print (f, fi.round(2), \"+/-\", s.round(2))"
      ],
      "execution_count": null,
      "outputs": []
    },
    {
      "cell_type": "code",
      "metadata": {
        "id": "2dghjtoawrB0"
      },
      "source": [
        "indices = np.argsort(rf.feature_importances_)\n",
        "pl.figure()\n",
        "pl.title(\"Feature importances\")\n",
        "pl.barh(np.arange(rf.feature_importances_.shape[0]),\n",
        "        rf.feature_importances_[indices],\n",
        "       xerr=fistd[indices], align=\"center\")\n",
        "pl.xticks(range(rf.feature_importances_.shape[0]), indices)\n",
        "pl.yticks(range(rf.feature_importances_.shape[0]),\n",
        "          labels=titanic_short.columns[indices])\n",
        "pl.xlim(0, 1)\n",
        "pl.show()\n"
      ],
      "execution_count": null,
      "outputs": []
    },
    {
      "cell_type": "markdown",
      "metadata": {
        "id": "O7DzwVIHwA-C"
      },
      "source": [
        "## Is the feature importance consistent between the 2 methods?"
      ]
    },
    {
      "cell_type": "code",
      "metadata": {
        "id": "ovagHKw3fyMt"
      },
      "source": [],
      "execution_count": null,
      "outputs": []
    }
  ]
}