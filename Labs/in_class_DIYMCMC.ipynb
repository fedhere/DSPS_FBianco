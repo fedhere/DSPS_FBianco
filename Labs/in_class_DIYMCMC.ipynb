{
  "nbformat": 4,
  "nbformat_minor": 0,
  "metadata": {
    "kernelspec": {
      "display_name": "Python 3",
      "language": "python",
      "name": "python3"
    },
    "language_info": {
      "codemirror_mode": {
        "name": "ipython",
        "version": 2
      },
      "file_extension": ".py",
      "mimetype": "text/x-python",
      "name": "python",
      "nbconvert_exporter": "python",
      "pygments_lexer": "ipython2",
      "version": "2.7.12"
    },
    "toc": {
      "colors": {
        "hover_highlight": "#DAA520",
        "running_highlight": "#FF0000",
        "selected_highlight": "#FFD700"
      },
      "moveMenuLeft": true,
      "nav_menu": {
        "height": "100px",
        "width": "253px"
      },
      "navigate_menu": true,
      "number_sections": true,
      "sideBar": true,
      "threshold": 4,
      "toc_cell": true,
      "toc_section_display": "block",
      "toc_window_display": true
    },
    "colab": {
      "provenance": [],
      "include_colab_link": true
    }
  },
  "cells": [
    {
      "cell_type": "markdown",
      "metadata": {
        "id": "view-in-github",
        "colab_type": "text"
      },
      "source": [
        "<a href=\"https://colab.research.google.com/github/fedhere/DSPS_FBianco/blob/main/Labs/in_class_DIYMCMC.ipynb\" target=\"_parent\"><img src=\"https://colab.research.google.com/assets/colab-badge.svg\" alt=\"Open In Colab\"/></a>"
      ]
    },
    {
      "cell_type": "markdown",
      "metadata": {
        "toc": "true",
        "id": "tVh3qrQkaQIb"
      },
      "source": [
        "# Table of Contents\n",
        " <p><div class=\"lev1 toc-item\"><a href=\"#Simple-line-fit-with-MCMC\" data-toc-modified-id=\"Simple-line-fit-with-MCMC-1\"><span class=\"toc-item-num\">1&nbsp;&nbsp;</span>Simple line fit with MCMC</a></div><div class=\"lev1 toc-item\"><a href=\"#Model:-a-line-mx-+-b\" data-toc-modified-id=\"Model:-a-line-mx-+-b-2\"><span class=\"toc-item-num\">2&nbsp;&nbsp;</span>Model: a line <em>mx + b</em></a></div><div class=\"lev1 toc-item\"><a href=\"#prior\" data-toc-modified-id=\"prior-3\"><span class=\"toc-item-num\">3&nbsp;&nbsp;</span>prior</a></div><div class=\"lev1 toc-item\"><a href=\"#likelihood\" data-toc-modified-id=\"likelihood-4\"><span class=\"toc-item-num\">4&nbsp;&nbsp;</span>likelihood</a></div><div class=\"lev1 toc-item\"><a href=\"#DYI-Metropolis-Hasting\" data-toc-modified-id=\"DYI-Metropolis-Hasting-5\"><span class=\"toc-item-num\">5&nbsp;&nbsp;</span>DYI Metropolis Hasting</a></div><div class=\"lev2 toc-item\"><a href=\"#Run-the-code-with-different-chain-lengths-to-see-how-the-MCMC-explores-the-parameter-space\" data-toc-modified-id=\"Run-the-code-with-different-chain-lengths-to-see-how-the-MCMC-explores-the-parameter-space-51\"><span class=\"toc-item-num\">5.1&nbsp;&nbsp;</span>Run the code with different chain lengths to see how the MCMC explores the parameter space</a></div><div class=\"lev1 toc-item\"><a href=\"#Affine-Invariant-MCMC-sample-(with-emcee)\" data-toc-modified-id=\"Affine-Invariant-MCMC-sample-(with-emcee)-6\"><span class=\"toc-item-num\">6&nbsp;&nbsp;</span>Affine Invariant MCMC sample (with emcee)</a></div><div class=\"lev1 toc-item\"><a href=\"#Comparison-with-analytical-solution\" data-toc-modified-id=\"Comparison-with-analytical-solution-7\"><span class=\"toc-item-num\">7&nbsp;&nbsp;</span>Comparison with analytical solution</a></div><div class=\"lev1 toc-item\"><a href=\"#Test-convergence-by-looking-at-the-autocorrelation\" data-toc-modified-id=\"Test-convergence-by-looking-at-the-autocorrelation-8\"><span class=\"toc-item-num\">8&nbsp;&nbsp;</span>Test convergence by looking at the autocorrelation</a></div><div class=\"lev1 toc-item\"><a href=\"#Increase-the-steps-in-the-chain\" data-toc-modified-id=\"Increase-the-steps-in-the-chain-9\"><span class=\"toc-item-num\">9&nbsp;&nbsp;</span>Increase the steps in the chain</a></div>"
      ]
    },
    {
      "cell_type": "markdown",
      "metadata": {
        "run_control": {
          "frozen": false,
          "read_only": false
        },
        "id": "8ZtOWEHKaQIf"
      },
      "source": [
        "# Simple line fit with MCMC"
      ]
    },
    {
      "cell_type": "code",
      "metadata": {
        "colab": {
          "base_uri": "https://localhost:8080/"
        },
        "id": "I83WhXCIaZXF",
        "outputId": "17abb8fb-0429-41da-80cc-0c776731519d"
      },
      "source": [
        "!pip install corner"
      ],
      "execution_count": null,
      "outputs": [
        {
          "output_type": "stream",
          "name": "stdout",
          "text": [
            "Collecting corner\n",
            "  Downloading corner-2.2.3-py3-none-any.whl.metadata (2.2 kB)\n",
            "Requirement already satisfied: matplotlib>=2.1 in /usr/local/lib/python3.12/dist-packages (from corner) (3.10.0)\n",
            "Requirement already satisfied: contourpy>=1.0.1 in /usr/local/lib/python3.12/dist-packages (from matplotlib>=2.1->corner) (1.3.3)\n",
            "Requirement already satisfied: cycler>=0.10 in /usr/local/lib/python3.12/dist-packages (from matplotlib>=2.1->corner) (0.12.1)\n",
            "Requirement already satisfied: fonttools>=4.22.0 in /usr/local/lib/python3.12/dist-packages (from matplotlib>=2.1->corner) (4.60.0)\n",
            "Requirement already satisfied: kiwisolver>=1.3.1 in /usr/local/lib/python3.12/dist-packages (from matplotlib>=2.1->corner) (1.4.9)\n",
            "Requirement already satisfied: numpy>=1.23 in /usr/local/lib/python3.12/dist-packages (from matplotlib>=2.1->corner) (2.0.2)\n",
            "Requirement already satisfied: packaging>=20.0 in /usr/local/lib/python3.12/dist-packages (from matplotlib>=2.1->corner) (25.0)\n",
            "Requirement already satisfied: pillow>=8 in /usr/local/lib/python3.12/dist-packages (from matplotlib>=2.1->corner) (11.3.0)\n",
            "Requirement already satisfied: pyparsing>=2.3.1 in /usr/local/lib/python3.12/dist-packages (from matplotlib>=2.1->corner) (3.2.4)\n",
            "Requirement already satisfied: python-dateutil>=2.7 in /usr/local/lib/python3.12/dist-packages (from matplotlib>=2.1->corner) (2.9.0.post0)\n",
            "Requirement already satisfied: six>=1.5 in /usr/local/lib/python3.12/dist-packages (from python-dateutil>=2.7->matplotlib>=2.1->corner) (1.17.0)\n",
            "Downloading corner-2.2.3-py3-none-any.whl (15 kB)\n",
            "Installing collected packages: corner\n",
            "Successfully installed corner-2.2.3\n"
          ]
        }
      ]
    },
    {
      "cell_type": "code",
      "metadata": {
        "colab": {
          "base_uri": "https://localhost:8080/"
        },
        "id": "1GJX4DouabQp",
        "outputId": "14947e6e-330c-43e9-f195-e114f316e090"
      },
      "source": [
        "!pip install emcee"
      ],
      "execution_count": null,
      "outputs": [
        {
          "output_type": "stream",
          "name": "stdout",
          "text": [
            "Collecting emcee\n",
            "  Downloading emcee-3.1.6-py2.py3-none-any.whl.metadata (3.0 kB)\n",
            "Requirement already satisfied: numpy in /usr/local/lib/python3.12/dist-packages (from emcee) (2.0.2)\n",
            "Downloading emcee-3.1.6-py2.py3-none-any.whl (47 kB)\n",
            "\u001b[2K   \u001b[90m━━━━━━━━━━━━━━━━━━━━━━━━━━━━━━━━━━━━━━━━\u001b[0m \u001b[32m47.4/47.4 kB\u001b[0m \u001b[31m1.4 MB/s\u001b[0m eta \u001b[36m0:00:00\u001b[0m\n",
            "\u001b[?25hInstalling collected packages: emcee\n",
            "Successfully installed emcee-3.1.6\n"
          ]
        }
      ]
    },
    {
      "cell_type": "code",
      "metadata": {
        "ExecuteTime": {
          "end_time": "2017-06-19T12:56:39.948168",
          "start_time": "2017-06-19T12:56:39.929286"
        },
        "run_control": {
          "frozen": false,
          "read_only": false
        },
        "colab": {
          "base_uri": "https://localhost:8080/"
        },
        "id": "FiOJwAkFaQIf",
        "outputId": "a467e4a5-fd28-4c8e-9b78-1aa2803ea86a"
      },
      "source": [
        "from __future__ import print_function, division\n",
        "import pylab as pl\n",
        "import  corner\n",
        "import emcee\n",
        "import scipy\n",
        "from scipy.stats import norm\n",
        "\n",
        "%pylab inline\n",
        "\n",
        "pl.rcParams['figure.figsize']= (10,10)\n",
        "pl.rcParams['font.size'] = 18"
      ],
      "execution_count": null,
      "outputs": [
        {
          "output_type": "stream",
          "name": "stdout",
          "text": [
            "Populating the interactive namespace from numpy and matplotlib\n"
          ]
        },
        {
          "output_type": "stream",
          "name": "stderr",
          "text": [
            "/usr/local/lib/python3.12/dist-packages/IPython/core/magics/pylab.py:159: UserWarning: pylab import has clobbered these variables: ['norm']\n",
            "`%matplotlib` prevents importing * from pylab and numpy\n",
            "  warn(\"pylab import has clobbered these variables: %s\"  % clobbered +\n"
          ]
        }
      ]
    },
    {
      "cell_type": "markdown",
      "metadata": {
        "id": "P_OGhtLqaQIh"
      },
      "source": [
        "# Model: a line *mx + b*"
      ]
    },
    {
      "cell_type": "code",
      "metadata": {
        "ExecuteTime": {
          "end_time": "2017-06-19T12:57:26.844800",
          "start_time": "2017-06-19T12:57:26.840803"
        },
        "collapsed": true,
        "run_control": {
          "frozen": false,
          "read_only": false
        },
        "id": "2heOPol-aQIi"
      },
      "source": [
        "def line(m, b, x):\n",
        "..."
      ],
      "execution_count": null,
      "outputs": []
    },
    {
      "cell_type": "code",
      "metadata": {
        "ExecuteTime": {
          "end_time": "2017-06-19T12:58:46.238850",
          "start_time": "2017-06-19T12:58:45.619913"
        },
        "run_control": {
          "frozen": false,
          "read_only": false
        },
        "colab": {
          "base_uri": "https://localhost:8080/",
          "height": 502
        },
        "id": "YzDvVKOvaQIi",
        "outputId": "acd372ac-d4e9-4b86-fe7b-56b1e804738d"
      },
      "source": [
        "# Choose the \"true\" parameters.\n",
        "m_true = 1.8\n",
        "b_true = 2.3\n",
        "\n",
        "# Generate some synthetic data from the model.\n",
        "N = 20\n",
        "np.random.seed(123)\n",
        "..."
      ],
      "execution_count": null,
      "outputs": [
        {
          "output_type": "display_data",
          "data": {
            "text/plain": [
              "<Figure size 1000x500 with 1 Axes>"
            ],
            "image/png": "[encoded data removed]"
          },
          "metadata": {}
        },
        {
          "output_type": "stream",
          "name": "stdout",
          "text": [
            "Figure 1: a line generative model and the data it generates with Poisson errors augmented by Gaussian errors\n"
          ]
        }
      ]
    },
    {
      "cell_type": "code",
      "metadata": {
        "id": "eJo_2Aa80F8T"
      },
      "source": [],
      "execution_count": null,
      "outputs": []
    },
    {
      "cell_type": "markdown",
      "metadata": {
        "run_control": {
          "frozen": false,
          "read_only": false
        },
        "id": "JBSek7BAaQIj"
      },
      "source": [
        "To get\n",
        "\n",
        "$P(\\theta \\mid D,f)$\n",
        "\n",
        "from Bayes theorem\n",
        "\n",
        "$P(\\theta \\mid D,f)\\quad \\propto { { \\quad P(D\\mid \\theta ,f)\\, P(\\theta ,f) } } $\n",
        "\n",
        "I need $ { { \\quad P(D\\mid \\theta ,f)\\, P(\\theta ,f) } } $\n",
        "\n",
        "NEXT STEP: define Prior $ P(\\theta ,f)$ and Likelihood $\\quad P(D\\mid \\theta ,f)$"
      ]
    },
    {
      "cell_type": "markdown",
      "metadata": {
        "run_control": {
          "frozen": false,
          "read_only": false
        },
        "id": "teXYxIfMaQIk"
      },
      "source": [
        "# prior"
      ]
    },
    {
      "cell_type": "code",
      "metadata": {
        "ExecuteTime": {
          "end_time": "2017-06-19T12:59:12.030865",
          "start_time": "2017-06-19T12:59:12.021760"
        },
        "collapsed": true,
        "run_control": {
          "frozen": false,
          "read_only": false
        },
        "id": "Szci8CtVaQIk"
      },
      "source": [
        "# what do I know about my model? e.g. the slope should be between 0 and 90 degree\n",
        "def lnprior(theta):\n",
        "    ..."
      ],
      "execution_count": null,
      "outputs": []
    },
    {
      "cell_type": "markdown",
      "metadata": {
        "run_control": {
          "frozen": false,
          "read_only": false
        },
        "id": "4MdYxLUOaQIl"
      },
      "source": [
        "# likelihood"
      ]
    },
    {
      "cell_type": "code",
      "metadata": {
        "ExecuteTime": {
          "end_time": "2017-06-19T12:59:15.863473",
          "start_time": "2017-06-19T12:59:15.853571"
        },
        "collapsed": true,
        "run_control": {
          "frozen": false,
          "read_only": false
        },
        "id": "Gd5id4mxaQIl"
      },
      "source": [
        "#remember the chi square:\n",
        "# Sum((model - data)/error)^2 is a quantity that follows a chi square distribution with N=number of degreed of freedom.\n",
        "# Divide it by the number of degreed  of freedom as Chisq = (Sum((model - data)/error)^2)/DOF\n",
        "# If it is ~1 that is a good model.\n",
        "# >1 bad model\n",
        "# <1 your errors must be underestimated (model too good to be true!)\n",
        "\n",
        "def lnlike(theta, x, y, yerr):\n",
        "    ..."
      ],
      "execution_count": null,
      "outputs": []
    },
    {
      "cell_type": "markdown",
      "metadata": {
        "run_control": {
          "frozen": false,
          "read_only": false
        },
        "id": "qSPV9S33aQIm"
      },
      "source": [
        "# DYI Metropolis Hasting"
      ]
    },
    {
      "cell_type": "code",
      "metadata": {
        "colab": {
          "base_uri": "https://localhost:8080/"
        },
        "id": "bgU1HbUh1vcr",
        "outputId": "4c8575bb-709d-49e8-e4c7-01aacdcc42e6"
      },
      "source": [
        "#first pass get theta_current, theta_proposal from a normal rvs, get the bayesian posterior of theta_current and theta_proposal\n",
        "\n",
        "np.random.seed(666)\n",
        "theta_current = (\n",
        ""
      ],
      "execution_count": null,
      "outputs": [
        {
          "output_type": "stream",
          "name": "stdout",
          "text": [
            "theta_0 =  [2.62418808 2.779966  ]\n",
            "theta_1 =  [2.85888169 2.96177562]\n",
            "-52.80280241581931\n",
            "-84.1863619955718\n"
          ]
        }
      ]
    },
    {
      "cell_type": "code",
      "metadata": {
        "ExecuteTime": {
          "end_time": "2017-06-19T12:59:31.261232",
          "start_time": "2017-06-19T12:59:31.240050"
        },
        "run_control": {
          "frozen": false,
          "read_only": false
        },
        "id": "p00EzkFxaQIm"
      },
      "source": [
        "#now repeat but implement the walk\n",
        "np.random.seed(666)\n",
        "\n",
        "theta_current = (m_true, b_true) + np.random.randn(2)\n",
        "\n",
        "# we start the walk here\n",
        "walk = [theta_current]\n",
        "... #(the rest is the same)\n",
        "if ... :\n",
        "  walk += ..."
      ],
      "execution_count": null,
      "outputs": []
    },
    {
      "cell_type": "markdown",
      "metadata": {
        "id": "8mejlpWpaQIm"
      },
      "source": [
        "## Run the chain to see how the MCMC explores the parameter space\n",
        "The simple algorithm coded below runs an MCMC with a single chain. The length of the chain is controlled by the parameter N\n"
      ]
    },
    {
      "cell_type": "code",
      "metadata": {
        "ExecuteTime": {
          "end_time": "2017-06-19T13:08:25.111573",
          "start_time": "2017-06-19T13:08:07.134126"
        },
        "run_control": {
          "frozen": false,
          "read_only": false
        },
        "colab": {
          "base_uri": "https://localhost:8080/"
        },
        "id": "HkOB7glsaQIm",
        "outputId": "41f19d1c-36ff-48b8-bf2e-cd10105d1413"
      },
      "source": [
        "N = 10_000 #number of steps in my chain\n",
        "\n",
        "# move along the walk N = 100, 1000 steps\n",
        "np.random.seed(666)\n",
        "...\n",
        "m_mcmc = np.percentile(np.array(walk)[:,0], [50, 16, 84])\n",
        "b_mcmc = np.percentile(np.array(walk)[:,1], [50, 16, 84])\n",
        "mcmcRes = np.concatenate([m_mcmc, b_mcmc])\n",
        "print (\"MCMC result:\\nslope\\t\\t{0:+.2f} ({1:.2f}, {2:.2f})\\nintercept\\t{3:.2f} ({4:.2f}, {5:.2f})\".format(*mcmcRes))"
      ],
      "execution_count": null,
      "outputs": [
        {
          "output_type": "stream",
          "name": "stderr",
          "text": [
            "/tmp/ipython-input-2725448728.py:37: RuntimeWarning: invalid value encountered in scalar divide\n",
            "  p_accept = (lnpost_proposal / lnpost_current)\n"
          ]
        },
        {
          "output_type": "stream",
          "name": "stdout",
          "text": [
            "MCMC result:\n",
            "slope\t\t+3.12 (0.87, 5.96)\n",
            "intercept\t-3.82 (-8.52, -0.16)\n"
          ]
        }
      ]
    },
    {
      "cell_type": "code",
      "metadata": {
        "colab": {
          "base_uri": "https://localhost:8080/"
        },
        "id": "RxWWMQG24IL5",
        "outputId": "667c31c4-647a-4a9a-8923-636f1de31727"
      },
      "source": [
        "#the walk should be Nx2\n",
        "walk"
      ],
      "execution_count": null,
      "outputs": [
        {
          "output_type": "execute_result",
          "data": {
            "text/plain": [
              "[array([2.62418808, 2.779966  ]),\n",
              " array([2.85888169, 2.96177562]),\n",
              " array([2.85180934, 2.9218932 ]),\n",
              " array([2.5658949 , 2.92958713]),\n",
              " array([2.41170939, 3.05216626]),\n",
              " array([2.19877517, 3.2589967 ]),\n",
              " array([2.02239082, 3.50965078]),\n",
              " array([2.02799416, 3.59136222]),\n",
              " array([1.67666912, 3.76028874]),\n",
              " array([1.73211309, 3.93086905]),\n",
              " array([1.77103301, 4.19299659]),\n",
              " array([1.62517537, 4.4648471 ]),\n",
              " array([1.4850522 , 4.60227469]),\n",
              " array([1.24307167, 4.59303815]),\n",
              " array([1.12081142, 4.42868785]),\n",
              " array([0.75734792, 4.14918002]),\n",
              " array([0.56038954, 3.87872366]),\n",
              " array([0.69448762, 4.02010986]),\n",
              " array([0.9804181 , 3.93729584]),\n",
              " array([0.71507356, 3.90753546]),\n",
              " array([0.90425824, 4.14835366]),\n",
              " array([0.81401009, 3.83086436]),\n",
              " array([0.82742402, 3.51265873]),\n",
              " array([0.2084499 , 4.19136208]),\n",
              " array([0.30344   , 4.18051918]),\n",
              " array([0.48180271, 4.3742529 ]),\n",
              " array([0.60796001, 4.19614892]),\n",
              " array([0.62441405, 4.18096081]),\n",
              " array([0.71035274, 4.20412075]),\n",
              " array([0.60146626, 4.20979143]),\n",
              " array([0.58748219, 4.33889039]),\n",
              " array([0.8562995 , 4.53494861]),\n",
              " array([0.6129265 , 4.48336343]),\n",
              " array([0.75522733, 4.44923342]),\n",
              " array([0.91525334, 4.58478444]),\n",
              " array([0.72516762, 4.57336912]),\n",
              " array([0.5634517 , 4.77964192]),\n",
              " array([0.44666696, 4.7782056 ]),\n",
              " array([0.5491688 , 4.73165359]),\n",
              " array([0.53653746, 4.89918878]),\n",
              " array([0.48579104, 4.86631828]),\n",
              " array([0.26962819, 5.18027992]),\n",
              " array([0.69129615, 5.05924267]),\n",
              " array([0.95794817, 5.14641084]),\n",
              " array([1.08087278, 5.35160844]),\n",
              " array([0.75410455, 5.26738922]),\n",
              " array([0.67256322, 5.47798941]),\n",
              " array([0.52923892, 4.83898307]),\n",
              " array([0.5795191 , 4.85559852]),\n",
              " array([0.65201712, 4.83857116]),\n",
              " array([0.82874266, 4.44015245]),\n",
              " array([0.81672929, 4.28355187]),\n",
              " array([1.08868897, 4.21188273]),\n",
              " array([0.87517504, 3.92727178]),\n",
              " array([0.93009668, 3.62124591]),\n",
              " array([1.16061404, 3.44056622]),\n",
              " array([1.19773971, 3.48161332]),\n",
              " array([1.29373944, 3.71041356]),\n",
              " array([1.1717026 , 3.76710193]),\n",
              " array([1.11457446, 4.00677638]),\n",
              " array([1.75802967, 3.78379086]),\n",
              " array([1.62635024, 3.85850763]),\n",
              " array([1.54627594, 3.678936  ]),\n",
              " array([0.9942497 , 3.73555126]),\n",
              " array([1.26413168, 3.58974238]),\n",
              " array([1.05558461, 3.52395707]),\n",
              " array([1.17829637, 3.48749894]),\n",
              " array([1.24112805, 3.66323332]),\n",
              " array([1.15571457, 3.84730941]),\n",
              " array([1.1817766 , 4.09928448]),\n",
              " array([1.37767667, 4.44681938]),\n",
              " array([1.0942147 , 4.35041858]),\n",
              " array([1.12769696, 4.57868734]),\n",
              " array([0.87321348, 4.51734405]),\n",
              " array([0.64033479, 4.75289668]),\n",
              " array([0.84263426, 4.80924957]),\n",
              " array([0.74500039, 4.86041639]),\n",
              " array([0.53841686, 4.87094815]),\n",
              " array([0.31033255, 5.0167806 ]),\n",
              " array([0.2554899 , 4.83699477]),\n",
              " array([0.09912657, 4.74563393]),\n",
              " array([0.25759311, 4.76976402]),\n",
              " array([0.41066221, 4.50989493]),\n",
              " array([0.20035942, 4.13870522]),\n",
              " array([0.396674  , 4.03068401]),\n",
              " array([0.54167415, 4.02931485]),\n",
              " array([0.4921061 , 3.69172569]),\n",
              " array([0.54667994, 3.54212511]),\n",
              " array([0.8730912 , 3.16225439]),\n",
              " array([0.8140492 , 3.22450092]),\n",
              " array([0.75443102, 3.32389967]),\n",
              " array([0.39889737, 3.26043488]),\n",
              " array([0.33852958, 3.04655588]),\n",
              " array([0.21744907, 3.07049799]),\n",
              " array([0.64094532, 3.41428682]),\n",
              " array([0.49727251, 3.54697816]),\n",
              " array([-0.09050585,  4.04994001]),\n",
              " array([0.11287206, 3.92481643]),\n",
              " array([0.34932587, 4.04960126]),\n",
              " array([0.32050833, 3.86134689]),\n",
              " array([0.44144218, 3.62690461]),\n",
              " array([0.29409489, 4.10187693]),\n",
              " array([0.45178347, 3.95699967]),\n",
              " array([0.76455813, 4.29253242]),\n",
              " array([0.61077952, 4.05850598]),\n",
              " array([0.23938845, 3.91654494]),\n",
              " array([0.30901908, 4.00228944]),\n",
              " array([0.0062522 , 4.02273657]),\n",
              " array([-0.08769518,  4.25811817]),\n",
              " array([0.02696948, 4.55914018]),\n",
              " array([-0.0236499 ,  4.48585918]),\n",
              " array([0.0114107 , 4.56948471]),\n",
              " array([0.32611988, 4.59300705]),\n",
              " array([0.30008177, 4.25598001]),\n",
              " array([0.30972403, 4.61578321]),\n",
              " array([0.28067141, 4.62706172]),\n",
              " array([0.13320054, 4.488252  ]),\n",
              " array([0.07256948, 4.68532525]),\n",
              " array([-0.30708113,  4.99227003]),\n",
              " array([0.01920219, 4.66693596]),\n",
              " array([0.29608718, 4.69180364]),\n",
              " array([0.64015011, 4.54083251]),\n",
              " array([0.86149778, 4.6678648 ]),\n",
              " array([0.83201822, 4.70086812]),\n",
              " array([0.62403504, 4.47301394]),\n",
              " array([0.68610903, 4.10687816]),\n",
              " array([0.77765124, 4.44442431]),\n",
              " array([0.39995662, 4.5724117 ]),\n",
              " array([0.59350159, 4.3299664 ]),\n",
              " array([0.46761501, 4.52537792]),\n",
              " array([0.50783062, 4.15318206]),\n",
              " array([0.27600456, 4.26175294]),\n",
              " array([0.02632034, 4.47370927]),\n",
              " array([-0.23025322,  4.46271543]),\n",
              " array([0.31675674, 4.56697416]),\n",
              " array([0.33268784, 4.66211771]),\n",
              " array([0.50767236, 4.7890039 ]),\n",
              " array([0.44293427, 4.74680863]),\n",
              " array([0.70628249, 5.0488287 ]),\n",
              " array([0.56734779, 4.75295244]),\n",
              " array([0.87401143, 4.64128194]),\n",
              " array([0.79159108, 4.50864083]),\n",
              " array([0.58134907, 4.46519064]),\n",
              " array([0.53306845, 4.20912208]),\n",
              " array([0.68522814, 4.07841049]),\n",
              " array([0.26506952, 4.14400911]),\n",
              " array([0.10784211, 4.35634442]),\n",
              " array([0.22170877, 4.41554169]),\n",
              " array([-0.15740376,  4.70763004]),\n",
              " array([0.06513786, 4.46307049]),\n",
              " array([-1.29040095e-03,  4.35254060e+00]),\n",
              " array([0.08507082, 4.32573513]),\n",
              " array([0.28859224, 4.36017241]),\n",
              " array([0.30926763, 4.08329417]),\n",
              " array([0.31819174, 3.702602  ]),\n",
              " array([-0.0991171 ,  3.49661679]),\n",
              " array([0.14105453, 3.31824171]),\n",
              " array([0.40885645, 3.82989226]),\n",
              " array([0.33179379, 3.62347499]),\n",
              " array([0.28357625, 3.17527123]),\n",
              " array([0.41323085, 3.38544705]),\n",
              " array([0.36087633, 3.29645788]),\n",
              " array([0.20096478, 3.60251613]),\n",
              " array([0.17625318, 3.43134298]),\n",
              " array([-0.05523924,  3.65465709]),\n",
              " array([0.33309877, 3.39973619]),\n",
              " array([0.17092995, 3.65937233]),\n",
              " array([0.41379219, 3.72804438]),\n",
              " array([0.60137446, 4.10005496]),\n",
              " array([0.41323834, 4.10151288]),\n",
              " array([0.20088148, 4.45384904]),\n",
              " array([0.50864459, 4.55768302]),\n",
              " array([0.4228668 , 4.47295017]),\n",
              " array([0.40223453, 4.06147688]),\n",
              " array([0.03162368, 4.06717563]),\n",
              " array([-0.0059841,  3.970309 ]),\n",
              " array([0.27798671, 3.86220647]),\n",
              " array([0.0319127 , 3.84746774]),\n",
              " array([-0.29619886,  3.82382406]),\n",
              " array([0.03922674, 3.93853595]),\n",
              " array([0.06076452, 3.69599172]),\n",
              " array([0.09729038, 3.65722169]),\n",
              " array([0.34247887, 3.57290062]),\n",
              " array([0.65153685, 3.83135988]),\n",
              " array([0.58554822, 3.65911458]),\n",
              " array([0.51281555, 3.57752621]),\n",
              " array([0.49984408, 3.67076896]),\n",
              " array([0.34817687, 3.85914685]),\n",
              " array([0.44745473, 3.58245326]),\n",
              " array([0.2444918 , 3.29196267]),\n",
              " array([0.36413887, 3.22170006]),\n",
              " array([0.6719719 , 3.23428169]),\n",
              " array([0.86158345, 2.83025912]),\n",
              " array([0.71559983, 2.50327044]),\n",
              " array([0.90408232, 2.86259641]),\n",
              " array([1.16677926, 2.61340333]),\n",
              " array([1.40773617, 2.39541232]),\n",
              " array([1.54884019, 2.20606789]),\n",
              " array([1.78022316, 2.20280287]),\n",
              " array([2.09887652, 2.35500946]),\n",
              " array([1.88379678, 2.36237058]),\n",
              " array([1.40880199, 2.22838806]),\n",
              " array([1.8288256 , 2.20008608]),\n",
              " array([1.57351399, 1.97520652]),\n",
              " array([1.60435035, 1.89016968]),\n",
              " array([1.5530223 , 2.02354203]),\n",
              " array([1.86637366, 1.51964966]),\n",
              " array([1.24788937, 1.47189522]),\n",
              " array([1.37319489, 1.38975237]),\n",
              " array([1.49737313, 0.88755122]),\n",
              " array([1.40806869, 0.89293681]),\n",
              " array([1.26643688, 0.87235054]),\n",
              " array([1.22080388, 0.67965589]),\n",
              " array([1.46991644, 0.55933581]),\n",
              " array([1.66133795, 0.736052  ]),\n",
              " array([1.35401722, 0.43808876]),\n",
              " array([1.30151679, 0.77111123]),\n",
              " array([1.3333819 , 0.92348539]),\n",
              " array([1.17004505, 1.02948688]),\n",
              " array([1.0210179 , 0.95560656]),\n",
              " array([1.18479274, 1.21853476]),\n",
              " array([1.70216471, 1.1155505 ]),\n",
              " array([1.75294826, 1.01744062]),\n",
              " array([1.6236141 , 1.07951849]),\n",
              " array([1.72903215, 0.96921261]),\n",
              " array([2.13250181, 0.8695122 ]),\n",
              " array([2.13584412, 0.71011127]),\n",
              " array([2.14733998, 0.66737685]),\n",
              " array([2.02559469, 0.89231726]),\n",
              " array([1.67752007, 1.15704919]),\n",
              " array([1.85449805, 1.04011525]),\n",
              " array([1.67952783, 0.74028499]),\n",
              " array([1.63048262, 0.89779549]),\n",
              " array([1.84038736, 0.99026447]),\n",
              " array([1.95114566, 0.78457369]),\n",
              " array([1.90675469, 0.85284465]),\n",
              " array([2.15834915, 0.61331679]),\n",
              " array([2.07493341, 0.66163354]),\n",
              " array([1.88927046, 0.46582697]),\n",
              " array([2.13063265, 0.69762384]),\n",
              " array([2.09754746, 0.59592122]),\n",
              " array([1.98417686, 0.54480899]),\n",
              " array([1.89025666, 0.66681986]),\n",
              " array([1.70186788, 0.54563499]),\n",
              " array([1.64705786, 0.50337249]),\n",
              " array([1.51876421, 0.62046   ]),\n",
              " array([1.60964474, 0.78392887]),\n",
              " array([1.94078609, 0.73589599]),\n",
              " array([2.5111447 , 0.60503024]),\n",
              " array([2.60863148, 0.4396113 ]),\n",
              " array([2.44194182, 0.51812759]),\n",
              " array([2.42780195, 0.74198458]),\n",
              " array([2.06017526, 0.68634676]),\n",
              " array([1.99919118, 0.93779621]),\n",
              " array([2.30215587, 0.89538827]),\n",
              " array([2.48339529, 0.68240314]),\n",
              " array([2.62856096, 0.74624228]),\n",
              " array([2.63618402, 0.5881957 ]),\n",
              " array([2.526393  , 0.48112858]),\n",
              " array([2.31071563, 0.27351805]),\n",
              " array([2.38447258, 0.67159291]),\n",
              " array([2.41002524, 0.43292767]),\n",
              " array([2.72098397, 0.66377464]),\n",
              " array([2.60928203, 1.15900345]),\n",
              " array([3.00697404, 1.15753006]),\n",
              " array([2.65711117, 0.92319533]),\n",
              " array([2.78940856, 0.7902656 ]),\n",
              " array([2.80982412, 0.75326635]),\n",
              " array([2.97936145, 0.66238306]),\n",
              " array([2.87481046, 0.69825648]),\n",
              " array([2.39866209, 0.55520193]),\n",
              " array([2.13345042, 0.4335299 ]),\n",
              " array([2.29668576, 0.46343457]),\n",
              " array([2.26975625, 0.57004074]),\n",
              " array([2.5655    , 0.75379905]),\n",
              " array([2.42185687, 1.01930915]),\n",
              " array([2.52279259, 1.35349899]),\n",
              " array([2.42887129, 1.48311475]),\n",
              " array([2.23834716, 1.66501978]),\n",
              " array([2.31248953, 1.45112489]),\n",
              " array([2.39951283, 1.31421695]),\n",
              " array([2.47540314, 1.15813556]),\n",
              " array([2.55718745, 0.81592558]),\n",
              " array([2.73792025, 0.75505228]),\n",
              " array([2.91185159, 0.48892658]),\n",
              " array([2.68027152, 0.62711739]),\n",
              " array([3.11779905, 0.58820038]),\n",
              " array([3.02825421, 0.66641839]),\n",
              " array([3.12046937, 0.93255244]),\n",
              " array([2.86059448, 0.72577185]),\n",
              " array([2.84942377, 1.07955878]),\n",
              " array([2.93703936, 1.16671951]),\n",
              " array([3.05957881, 1.32882302]),\n",
              " array([3.21073193, 1.54576821]),\n",
              " array([3.47646454, 1.77178863]),\n",
              " array([3.37630642, 1.93313495]),\n",
              " array([3.37473428, 1.68020189]),\n",
              " array([3.57879545, 1.83782698]),\n",
              " array([3.59860313, 1.80416382]),\n",
              " array([3.80529943, 1.77515184]),\n",
              " array([4.04454587, 1.27872398]),\n",
              " array([4.04091783, 1.51987967]),\n",
              " array([3.99766646, 1.48292519]),\n",
              " array([4.35823892, 1.28346431]),\n",
              " array([4.65697561, 1.43003107]),\n",
              " array([4.85134582, 1.51183432]),\n",
              " array([4.47372693, 1.51814866]),\n",
              " array([4.26031425, 1.71325533]),\n",
              " array([4.35493515, 1.73866246]),\n",
              " array([4.35175186, 1.73139911]),\n",
              " array([4.37855254, 1.55868785]),\n",
              " array([4.49010152, 1.75683933]),\n",
              " array([4.62789228, 1.58318076]),\n",
              " array([4.60659707, 1.4716995 ]),\n",
              " array([4.37252069, 1.53579154]),\n",
              " array([4.51641434, 1.63274308]),\n",
              " array([4.44530911, 1.88338776]),\n",
              " array([4.01426977, 1.85230364]),\n",
              " array([3.84445379, 2.02464284]),\n",
              " array([3.94757256, 2.17101169]),\n",
              " array([4.12528983, 2.12539887]),\n",
              " array([4.37217884, 2.0737373 ]),\n",
              " array([4.69060908, 2.36410956]),\n",
              " array([5.03979863, 2.01940991]),\n",
              " array([4.91678116, 1.82923545]),\n",
              " array([4.90145543, 2.01163545]),\n",
              " array([4.93765469, 2.19228677]),\n",
              " array([4.89807266, 2.01901128]),\n",
              " array([5.12345277, 1.89547514]),\n",
              " array([4.76774292, 2.10769615]),\n",
              " array([4.69272873, 2.10863938]),\n",
              " array([4.9629389 , 1.58002734]),\n",
              " array([4.8254228 , 1.39011897]),\n",
              " array([4.78876902, 1.30930061]),\n",
              " array([4.42253839, 1.37762831]),\n",
              " array([4.2426387 , 1.56026323]),\n",
              " array([3.97822859, 1.40321856]),\n",
              " array([4.21525442, 1.35222797]),\n",
              " array([4.38351297, 1.38785622]),\n",
              " array([4.34791862, 1.42428931]),\n",
              " array([4.41065272, 1.6271058 ]),\n",
              " array([4.23765349, 1.77838419]),\n",
              " array([4.24353174, 1.7213672 ]),\n",
              " array([4.1466723 , 1.46678591]),\n",
              " array([3.80945424, 1.22945417]),\n",
              " array([3.9758654 , 1.01492418]),\n",
              " array([3.77572177, 1.10394351]),\n",
              " array([3.78255154, 1.18106126]),\n",
              " array([3.62593982, 1.25069356]),\n",
              " array([3.35511555, 1.69854999]),\n",
              " array([3.51563539, 1.62043548]),\n",
              " array([3.43341943, 1.71717032]),\n",
              " array([3.28580335, 1.65825692]),\n",
              " array([3.04887392, 1.28736408]),\n",
              " array([3.16137637, 1.59407674]),\n",
              " array([3.09737967, 1.56538209]),\n",
              " array([3.19736848, 1.75299179]),\n",
              " array([3.0751989 , 1.67824979]),\n",
              " array([3.21068694, 1.61519344]),\n",
              " array([3.36485463, 1.63449991]),\n",
              " array([3.48142316, 1.72880691]),\n",
              " array([3.46913513, 1.68813629]),\n",
              " array([3.62645169, 1.5762098 ]),\n",
              " array([3.5688963 , 1.57886033]),\n",
              " array([3.91615505, 1.56041481]),\n",
              " array([3.81976316, 1.5910439 ]),\n",
              " array([3.67455414, 1.01429956]),\n",
              " array([3.59270938, 0.85036621]),\n",
              " array([3.52086386, 0.91003494]),\n",
              " array([3.51442337, 0.78920704]),\n",
              " array([3.46183996, 0.56625446]),\n",
              " array([3.28507494, 0.47838846]),\n",
              " array([3.22832453, 0.34949989]),\n",
              " array([3.20317123, 0.71346015]),\n",
              " array([3.04051763, 0.21767013]),\n",
              " array([3.13995823, 0.12140269]),\n",
              " array([ 3.01036179, -0.03833657]),\n",
              " array([2.89311723, 0.42929832]),\n",
              " array([2.75467387, 0.29377353]),\n",
              " array([2.98537468, 0.41035387]),\n",
              " array([ 3.16764772, -0.01649384]),\n",
              " array([ 2.75686624, -0.28026746]),\n",
              " array([ 2.65824659, -0.53433541]),\n",
              " array([ 2.7181478, -0.9196995]),\n",
              " array([ 2.51643385, -0.7087247 ]),\n",
              " array([ 2.77351399, -1.04831851]),\n",
              " array([ 2.6025334 , -0.86819431]),\n",
              " array([ 3.12155581, -0.89277393]),\n",
              " array([ 3.25388676, -1.00639779]),\n",
              " array([ 3.24455781, -1.1253799 ]),\n",
              " array([ 3.67405882, -1.18945148]),\n",
              " array([ 3.64839708, -1.1285381 ]),\n",
              " array([ 3.96877023, -1.10852963]),\n",
              " array([ 3.88805243, -1.10146285]),\n",
              " array([ 3.86374684, -0.78830636]),\n",
              " array([ 3.86465611, -0.47625483]),\n",
              " array([ 4.09327166, -0.5113577 ]),\n",
              " array([ 4.02990549, -0.0790385 ]),\n",
              " array([ 3.89804262, -0.12623934]),\n",
              " array([ 3.82129532, -0.40168432]),\n",
              " array([ 3.905064  , -0.55400335]),\n",
              " array([ 4.22919937, -0.7650039 ]),\n",
              " array([ 4.17843726, -0.83299936]),\n",
              " array([ 4.56674184, -0.85720557]),\n",
              " array([ 4.78173073, -0.7672423 ]),\n",
              " array([ 5.01542234, -0.870985  ]),\n",
              " array([ 5.1089872 , -0.99303132]),\n",
              " array([ 4.84876256, -1.16950025]),\n",
              " array([ 4.90248019, -0.94924914]),\n",
              " array([ 4.57978149, -0.5878826 ]),\n",
              " array([ 4.94222366, -0.53350956]),\n",
              " array([ 4.75418366, -0.53979922]),\n",
              " array([ 4.76522915, -0.68351329]),\n",
              " array([ 4.80046078, -0.45467289]),\n",
              " array([ 4.90482575, -0.34597938]),\n",
              " array([ 4.96163108, -0.39505676]),\n",
              " array([ 4.89457159, -0.36213037]),\n",
              " array([ 4.93616835, -0.51780961]),\n",
              " array([ 4.64994309, -0.77121157]),\n",
              " array([ 4.83272963, -0.59508071]),\n",
              " array([ 4.55305811, -0.17641391]),\n",
              " array([ 4.3640803 , -0.16927422]),\n",
              " array([ 4.58567503, -0.32889267]),\n",
              " array([ 4.72211257, -0.21502368]),\n",
              " array([ 4.70082062, -0.29233199]),\n",
              " array([ 4.78753946, -0.44393294]),\n",
              " array([ 4.49192585, -0.59819118]),\n",
              " array([ 4.50893283, -0.72797374]),\n",
              " array([ 4.64622871, -0.5973701 ]),\n",
              " array([ 4.55318571, -0.68508176]),\n",
              " array([ 4.29756088, -0.857148  ]),\n",
              " array([ 4.01600666, -0.67891068]),\n",
              " array([ 3.8744341, -0.4495642]),\n",
              " array([ 3.67375409, -0.40767223]),\n",
              " array([ 3.77457007, -0.32328334]),\n",
              " array([ 3.53873547, -0.21164245]),\n",
              " array([ 3.40258438, -0.37379027]),\n",
              " array([ 3.15630984, -0.49730021]),\n",
              " array([ 2.87935785, -0.32778852]),\n",
              " array([ 2.39979263, -0.55519447]),\n",
              " array([ 2.39478601, -0.64563845]),\n",
              " array([ 2.08017505, -0.34102311]),\n",
              " array([ 1.98483485, -0.50654017]),\n",
              " array([ 1.67274484, -0.5147994 ]),\n",
              " array([ 1.58088745, -0.35831864]),\n",
              " array([ 1.58254718, -0.5447164 ]),\n",
              " array([ 1.7887553, -0.3576292]),\n",
              " array([ 1.81265045, -0.41067737]),\n",
              " array([ 1.95704694, -0.29570505]),\n",
              " array([2.03023225, 0.31791121]),\n",
              " array([2.17350047, 0.50892597]),\n",
              " array([1.78003409, 0.44300719]),\n",
              " array([1.82551561, 0.07404425]),\n",
              " array([ 1.60264912, -0.15406942]),\n",
              " array([ 1.40020982, -0.19938495]),\n",
              " array([ 1.54074994, -0.31691605]),\n",
              " array([ 1.86104146, -0.44149761]),\n",
              " array([ 1.46628419, -0.51908128]),\n",
              " array([ 1.27076877, -0.58723063]),\n",
              " array([ 1.15938618, -0.71181156]),\n",
              " array([ 1.40643928, -0.62758877]),\n",
              " array([ 1.59109067, -0.70770698]),\n",
              " array([ 1.62796806, -0.70799567]),\n",
              " array([ 1.75592281, -0.82166247]),\n",
              " array([ 1.69030805, -0.61617021]),\n",
              " array([ 1.8180366 , -0.22845695]),\n",
              " array([ 1.68167135, -0.33102458]),\n",
              " array([ 1.32720713, -0.56757387]),\n",
              " array([ 1.1874545 , -0.37456158]),\n",
              " array([ 0.69435462, -0.52239306]),\n",
              " array([ 0.88144721, -0.48461259]),\n",
              " array([ 1.13806066, -0.38637539]),\n",
              " array([ 1.4712678 , -0.15633679]),\n",
              " array([ 1.60702369, -0.27226627]),\n",
              " array([ 2.03793434, -0.39560916]),\n",
              " array([ 2.20658711, -0.5427276 ]),\n",
              " array([ 2.28174395, -0.63197875]),\n",
              " array([ 2.45041054, -0.65161818]),\n",
              " array([ 2.66897771, -0.2539486 ]),\n",
              " array([ 2.67218797, -0.40855579]),\n",
              " array([ 2.64047693, -0.64738653]),\n",
              " array([ 2.46154339, -0.6652439 ]),\n",
              " array([ 2.44188019, -0.34273592]),\n",
              " array([2.25651267, 0.0028456 ]),\n",
              " array([2.18395567, 0.14945041]),\n",
              " array([2.19828958, 0.31099798]),\n",
              " array([2.47372913, 0.26510319]),\n",
              " array([2.63011022, 0.69406079]),\n",
              " array([2.63893622, 0.76808979]),\n",
              " array([2.20484843, 0.78548191]),\n",
              " array([2.28959279, 0.82275203]),\n",
              " array([2.43477698, 0.57620793]),\n",
              " array([2.36957913, 0.37534526]),\n",
              " array([2.3341186 , 0.66063368]),\n",
              " array([2.47023709, 0.63993973]),\n",
              " array([2.78394562, 0.95095972]),\n",
              " array([2.61799425, 1.37726386]),\n",
              " array([2.50937939, 1.49181834]),\n",
              " array([2.76458386, 1.50164667]),\n",
              " array([2.78956064, 1.05229385]),\n",
              " array([2.65882794, 1.14661931]),\n",
              " array([2.5204079 , 1.35433305]),\n",
              " array([2.36877666, 1.66071192]),\n",
              " array([2.51129086, 1.60478548]),\n",
              " array([2.72833195, 1.59802641]),\n",
              " array([2.60450143, 1.58545128]),\n",
              " array([2.3566655 , 1.31934944]),\n",
              " array([2.38964584, 1.46782448]),\n",
              " array([1.97061871, 1.62466141]),\n",
              " array([2.03765877, 1.65751148]),\n",
              " array([1.93636097, 1.73355778]),\n",
              " array([1.83337451, 1.65504042]),\n",
              " array([1.37797474, 1.56658009]),\n",
              " array([1.64544957, 1.67503364]),\n",
              " array([1.78218888, 1.59327495]),\n",
              " array([1.0944468 , 1.84498427]),\n",
              " array([1.11935344, 1.55517964]),\n",
              " array([1.31912871, 1.68718902]),\n",
              " array([1.3677686 , 2.09521039]),\n",
              " array([1.31225193, 2.03060536]),\n",
              " array([1.36797392, 1.50818729]),\n",
              " array([1.24242153, 1.10653227]),\n",
              " array([1.02010567, 1.30121745]),\n",
              " array([0.77524499, 1.27526808]),\n",
              " array([0.87273357, 1.20929988]),\n",
              " array([0.93660282, 0.99066584]),\n",
              " array([1.15195388, 1.53949455]),\n",
              " array([1.44333214, 1.55869502]),\n",
              " array([1.04413507, 1.54817343]),\n",
              " array([1.16769396, 1.3940315 ]),\n",
              " array([1.10700661, 1.26806734]),\n",
              " array([1.22945779, 1.0792909 ]),\n",
              " array([1.34233695, 1.29436907]),\n",
              " array([1.27334603, 1.3680223 ]),\n",
              " array([1.0877859 , 1.46277096]),\n",
              " array([1.1599613 , 1.60424246]),\n",
              " array([1.13111957, 1.58172096]),\n",
              " array([1.20160946, 1.40782098]),\n",
              " array([1.09170785, 1.46070548]),\n",
              " array([1.13778526, 1.3491733 ]),\n",
              " array([1.15083694, 1.12164486]),\n",
              " array([1.32422821, 0.95931943]),\n",
              " array([1.47029139, 1.06831152]),\n",
              " array([1.30405699, 1.08481509]),\n",
              " array([1.4766945 , 1.09205685]),\n",
              " array([1.46938087, 0.7648256 ]),\n",
              " array([1.72803054, 0.94968912]),\n",
              " array([1.59007335, 0.77066072]),\n",
              " array([1.9420913 , 0.59724306]),\n",
              " array([1.74575434, 0.65626026]),\n",
              " array([1.97522124, 0.60733597]),\n",
              " array([2.34727132, 0.56452717]),\n",
              " array([2.44539133, 0.53835051]),\n",
              " array([2.52069945, 0.54082688]),\n",
              " array([2.48484277, 0.77023836]),\n",
              " array([2.36706821, 0.76564088]),\n",
              " array([2.67661219, 0.63491659]),\n",
              " array([2.64908923, 0.84772225]),\n",
              " array([2.39706384, 0.87647443]),\n",
              " array([2.26610032, 0.86576092]),\n",
              " array([2.46886442, 0.71101773]),\n",
              " array([2.74308418, 0.85670773]),\n",
              " array([2.70521799, 0.81191614]),\n",
              " array([2.66143019, 0.6640555 ]),\n",
              " array([2.79399989, 0.80890001]),\n",
              " array([2.97678448, 0.9098457 ]),\n",
              " array([2.91622345, 0.9877542 ]),\n",
              " array([2.71079752, 0.92233367]),\n",
              " array([2.61566683, 0.87553463]),\n",
              " array([2.77050102, 0.96274871]),\n",
              " array([2.98774857, 1.11351713]),\n",
              " array([2.93708057, 0.82616678]),\n",
              " array([3.42529679, 0.37099374]),\n",
              " array([3.33914175, 0.26551709]),\n",
              " array([3.31815229, 0.29264919]),\n",
              " array([3.11481609, 0.54829679]),\n",
              " array([3.46110511, 0.80133663]),\n",
              " array([3.09350572, 0.77351632]),\n",
              " array([3.37768981, 0.67470654]),\n",
              " array([3.4025445 , 0.68652817]),\n",
              " array([3.49262173, 0.6571083 ]),\n",
              " array([3.15399488, 0.78725114]),\n",
              " array([3.18924243, 0.46766555]),\n",
              " array([3.29167299, 0.5202261 ]),\n",
              " array([3.33446208, 0.73344165]),\n",
              " array([3.4725599 , 0.91228431]),\n",
              " array([3.76579222, 0.91172661]),\n",
              " array([3.34929699, 0.87907684]),\n",
              " array([3.45924586, 0.78348905]),\n",
              " array([3.54822819, 0.95012586]),\n",
              " array([3.48034925, 0.78254911]),\n",
              " array([3.2758155 , 0.81441824]),\n",
              " array([3.22497389, 0.50719833]),\n",
              " array([3.44870446, 0.5196693 ]),\n",
              " array([3.6545011 , 0.63635096]),\n",
              " array([3.39555213, 0.57409288]),\n",
              " array([3.49181919, 0.50899462]),\n",
              " array([3.67211346, 0.33312159]),\n",
              " array([3.59251424, 0.04523008]),\n",
              " array([3.52525317, 0.02679785]),\n",
              " array([ 3.89025686, -0.06321255]),\n",
              " array([ 4.04020085, -0.16939578]),\n",
              " array([ 4.26005319, -0.11508232]),\n",
              " array([4.36336975, 0.30616103]),\n",
              " array([4.05628235, 0.19143421]),\n",
              " array([4.15208328, 0.35717007]),\n",
              " array([4.21342111, 0.62017996]),\n",
              " array([4.2867957 , 0.66912486]),\n",
              " array([4.4588497 , 0.93321899]),\n",
              " array([4.61969767, 0.71414455]),\n",
              " array([4.63124233, 0.64193472]),\n",
              " array([4.83489035, 0.54607453]),\n",
              " array([4.91063511, 0.59386093]),\n",
              " array([4.83786749, 0.4361421 ]),\n",
              " array([4.89465485, 0.37452715]),\n",
              " array([4.83091933, 0.63342522]),\n",
              " array([4.96147274, 0.29075529]),\n",
              " array([4.69258665, 0.23738878]),\n",
              " array([4.82279865, 0.56461584]),\n",
              " array([4.65379868, 0.69640053]),\n",
              " array([4.78035886, 0.80287063]),\n",
              " array([4.47866867, 0.7798735 ]),\n",
              " array([4.30068971, 0.56136112]),\n",
              " array([4.23013642, 0.5775225 ]),\n",
              " array([4.10483634, 0.55859433]),\n",
              " array([4.16128414, 0.27482658]),\n",
              " array([3.91317016, 0.30023244]),\n",
              " array([4.51439258, 0.15304992]),\n",
              " array([4.54216554, 0.07487105]),\n",
              " array([4.69880684, 0.13551349]),\n",
              " array([4.74139719, 0.2237188 ]),\n",
              " array([ 4.73352689, -0.21845232]),\n",
              " array([4.64619808, 0.31296034]),\n",
              " array([4.52895559, 0.46330877]),\n",
              " array([4.8819029 , 0.30168467]),\n",
              " array([5.00753279, 0.25506259]),\n",
              " array([4.91806296, 0.13818283]),\n",
              " array([5.0403543 , 0.12875028]),\n",
              " array([5.23638328, 0.3116691 ]),\n",
              " array([5.22693822, 0.31764993]),\n",
              " array([5.18681372, 0.21027577]),\n",
              " array([5.28065265, 0.39404191]),\n",
              " array([5.31433302, 0.63782461]),\n",
              " array([5.45684001, 0.55373758]),\n",
              " array([5.30741145, 0.69178705]),\n",
              " array([5.64840039, 1.03950287]),\n",
              " array([5.75392026, 1.29519523]),\n",
              " array([5.82830222, 1.24271277]),\n",
              " array([5.83815229, 1.2350375 ]),\n",
              " array([5.60809867, 1.1902357 ]),\n",
              " array([5.56373751, 1.5636673 ]),\n",
              " array([5.59178718, 1.28396285]),\n",
              " array([5.68501625, 1.35446242]),\n",
              " array([5.45224213, 1.28178648]),\n",
              " array([5.47524369, 1.66844432]),\n",
              " array([5.78735056, 1.80428573]),\n",
              " array([5.72561202, 1.59814372]),\n",
              " array([5.87336602, 1.58122436]),\n",
              " array([5.92049737, 1.56797877]),\n",
              " array([5.57069898, 1.20920215]),\n",
              " array([5.82019463, 1.17274926]),\n",
              " array([6.00655329, 0.85026457]),\n",
              " array([6.13056839, 0.92272867]),\n",
              " array([6.27117258, 0.8123507 ]),\n",
              " array([6.40440128, 0.82110935]),\n",
              " array([6.45725562, 0.77163571]),\n",
              " array([6.50722352, 0.5951937 ]),\n",
              " array([6.63272542, 0.44024632]),\n",
              " array([6.67162945, 0.44164622]),\n",
              " array([6.55751097, 0.39834345]),\n",
              " array([6.85802852, 0.40018499]),\n",
              " array([6.79546081, 0.55109531]),\n",
              " array([6.75336503, 0.26857689]),\n",
              " array([ 6.7639751 , -0.08241024]),\n",
              " array([ 6.97123394, -0.17531447]),\n",
              " array([ 7.3105087 , -0.11879392]),\n",
              " array([ 7.28196582, -0.1302919 ]),\n",
              " array([ 7.24112419, -0.13678575]),\n",
              " array([ 7.18464316, -0.28039225]),\n",
              " array([ 7.56737901, -0.43867053]),\n",
              " array([ 7.83423644, -0.23016784]),\n",
              " array([ 7.88027706, -0.48800799]),\n",
              " array([ 7.85423812, -0.60941546]),\n",
              " array([ 7.66108975, -0.57280988]),\n",
              " array([ 7.80800305, -0.53589778]),\n",
              " array([ 7.74233902, -0.42172837]),\n",
              " array([ 7.74647663, -0.64186127]),\n",
              " array([ 7.83932241, -0.51149317]),\n",
              " array([ 8.07031835, -0.45174776]),\n",
              " array([ 7.81312946, -0.20461458]),\n",
              " array([ 7.68270289, -0.14563239]),\n",
              " array([7.53773491, 0.04104465]),\n",
              " array([7.40973275, 0.13805553]),\n",
              " array([7.29479787, 0.24067126]),\n",
              " array([7.30811268, 0.14916856]),\n",
              " array([7.05627951, 0.18204871]),\n",
              " array([ 7.13892929, -0.00774453]),\n",
              " array([7.26126722, 0.24962854]),\n",
              " array([7.18566627, 0.5398633 ]),\n",
              " array([7.11633565, 0.96671419]),\n",
              " array([6.98971441, 0.79485863]),\n",
              " array([6.83368568, 0.65971249]),\n",
              " array([6.89643332, 0.40082842]),\n",
              " array([6.70857149, 0.46188391]),\n",
              " array([7.09289975, 0.39784394]),\n",
              " array([6.99508711, 0.4756506 ]),\n",
              " array([7.1146349 , 0.78597216]),\n",
              " array([7.21837241, 0.65315137]),\n",
              " array([7.12505869, 0.80197243]),\n",
              " array([6.90309296, 0.96991389]),\n",
              " array([6.81084884, 0.93592598]),\n",
              " array([6.78729428, 0.54844892]),\n",
              " array([6.97094733, 0.64199691]),\n",
              " array([6.77750821, 0.54750947]),\n",
              " array([6.71177343, 0.71756182]),\n",
              " array([6.53880854, 0.58717889]),\n",
              " array([6.775838  , 0.55331284]),\n",
              " array([6.76385684, 0.40297624]),\n",
              " array([6.9135308 , 0.51951277]),\n",
              " array([6.96286702, 0.79052294]),\n",
              " array([7.06409279, 0.70863737]),\n",
              " array([6.77043615, 0.64555537]),\n",
              " array([6.53296612, 0.72345156]),\n",
              " array([6.56287769, 0.40224418]),\n",
              " array([6.46888435, 0.38261527]),\n",
              " array([6.63331061, 0.49408703]),\n",
              " array([6.40315936, 0.2312349 ]),\n",
              " array([6.4826911 , 0.13235796]),\n",
              " array([ 6.66757305, -0.2089828 ]),\n",
              " array([6.68260002, 0.21483179]),\n",
              " array([6.09972377, 0.40696969]),\n",
              " array([6.05214891, 0.59346792]),\n",
              " array([6.1743269 , 0.69031574]),\n",
              " array([5.97722006, 0.59428866]),\n",
              " array([5.81635856, 1.22625717]),\n",
              " array([5.55525846, 0.90715883]),\n",
              " array([5.57447539, 0.63569376]),\n",
              " array([5.34465185, 0.83467456]),\n",
              " array([5.0943476 , 0.54437785]),\n",
              " array([4.93918359, 0.41482213]),\n",
              " array([5.04512703, 0.38378296]),\n",
              " array([5.07294157, 0.7881324 ]),\n",
              " array([5.28785953, 0.85327386]),\n",
              " array([5.23158984, 0.34737245]),\n",
              " array([5.47830038, 0.11921301]),\n",
              " array([ 5.53407298, -0.0403422 ]),\n",
              " array([ 5.73663507, -0.05131717]),\n",
              " array([ 5.72678346, -0.35331066]),\n",
              " array([ 5.50675335, -0.19829299]),\n",
              " array([ 5.40137998, -0.48157678]),\n",
              " array([ 4.97171521, -0.48990669]),\n",
              " array([ 5.12504111, -0.43469747]),\n",
              " array([ 4.79771516, -0.13147025]),\n",
              " array([4.67168605, 0.00716661]),\n",
              " array([ 4.46392061, -0.06013227]),\n",
              " array([ 4.4208432 , -0.24227874]),\n",
              " array([ 4.89461823, -0.19190154]),\n",
              " array([ 5.1265928 , -0.30486539]),\n",
              " array([ 5.04755067, -0.57825836]),\n",
              " array([ 5.04318407, -0.56712228]),\n",
              " array([ 4.79935939, -0.46815698]),\n",
              " array([ 4.50021066, -0.41183463]),\n",
              " array([ 4.23002554, -0.20300443]),\n",
              " array([4.21107413, 0.24433576]),\n",
              " array([4.02012161, 0.44835545]),\n",
              " array([4.1556182 , 0.27133286]),\n",
              " array([4.24024554, 0.50205106]),\n",
              " array([4.3655244 , 0.53384786]),\n",
              " array([4.18556679, 0.03885864]),\n",
              " array([4.16496103, 0.28465824]),\n",
              " array([4.10869513, 0.4001592 ]),\n",
              " array([3.80623709, 0.61538249]),\n",
              " array([3.72215521, 0.7711486 ]),\n",
              " array([3.90996379, 0.75529088]),\n",
              " array([3.99703564, 0.70484938]),\n",
              " array([3.64143574, 0.72122485]),\n",
              " array([3.69098773, 0.28822384]),\n",
              " array([3.5899685 , 0.32814911]),\n",
              " array([4.12978153, 0.12043936]),\n",
              " array([4.14491031, 0.3279023 ]),\n",
              " array([3.92632677, 0.13324556]),\n",
              " array([ 3.54139294, -0.28873324]),\n",
              " array([ 3.21335024, -0.22483922]),\n",
              " array([ 3.28291196, -0.28555615]),\n",
              " array([ 3.54458578, -0.74150589]),\n",
              " array([ 3.23906038, -0.84646944]),\n",
              " array([ 3.24929343, -0.60691236]),\n",
              " array([ 2.99444503, -0.97789603]),\n",
              " array([ 3.09909184, -0.75066514]),\n",
              " array([ 3.12495579, -0.62180253]),\n",
              " array([ 3.02771741, -0.74789191]),\n",
              " array([ 3.10866893, -0.86006192]),\n",
              " array([ 3.30018922, -1.02029232]),\n",
              " array([ 3.35792025, -0.57912582]),\n",
              " array([ 3.11265399, -0.41893639]),\n",
              " array([ 2.91754378, -0.37278157]),\n",
              " array([ 3.09446713, -0.22867506]),\n",
              " array([ 3.20447951, -0.41871455]),\n",
              " array([ 3.16316765, -0.7112461 ]),\n",
              " array([ 3.1421605, -0.8541007]),\n",
              " array([ 3.43493512, -0.44256883]),\n",
              " array([ 3.19202506, -0.46228251]),\n",
              " array([ 3.32774919, -0.43628807]),\n",
              " array([ 3.40088613, -0.91312926]),\n",
              " array([ 3.38839001, -0.93423881]),\n",
              " array([ 3.47129388, -0.88884095]),\n",
              " array([ 3.63445102, -0.78205193]),\n",
              " array([ 3.31307701, -0.88439829]),\n",
              " array([ 3.26166119, -0.8447793 ]),\n",
              " array([ 3.04514846, -1.27088896]),\n",
              " array([ 2.79208383, -1.31589619]),\n",
              " array([ 2.72895087, -1.33419802]),\n",
              " array([ 2.80049053, -1.56958156]),\n",
              " array([ 2.82684034, -1.79180984]),\n",
              " array([ 2.78308825, -2.02067833]),\n",
              " array([ 2.87109952, -2.02897428]),\n",
              " array([ 2.80283367, -1.91934015]),\n",
              " array([ 2.93137084, -1.60031655]),\n",
              " array([ 3.1305445 , -1.37456987]),\n",
              " array([ 3.11635147, -1.62525831]),\n",
              " array([ 3.01705635, -1.48633489]),\n",
              " array([ 2.77939289, -1.81752142]),\n",
              " array([ 3.09258283, -1.75531877]),\n",
              " array([ 2.845221  , -1.24525061]),\n",
              " array([ 3.23515289, -0.98567359]),\n",
              " array([ 3.22300556, -1.13855013]),\n",
              " array([ 3.26325716, -1.25571525]),\n",
              " array([ 3.32003999, -1.19539697]),\n",
              " array([ 3.55343417, -0.88512426]),\n",
              " array([ 3.76201055, -1.14299685]),\n",
              " array([ 4.23399394, -1.3015758 ]),\n",
              " array([ 4.36457881, -1.21427987]),\n",
              " array([ 4.23028007, -1.27389376]),\n",
              " array([ 4.3374114 , -1.42560061]),\n",
              " array([ 4.48019239, -1.72749174]),\n",
              " array([ 4.41155798, -1.98691514]),\n",
              " array([ 4.44392443, -2.42849925]),\n",
              " array([ 4.58275471, -2.63220647]),\n",
              " array([ 4.60179916, -2.47278001]),\n",
              " array([ 4.62109108, -2.57599246]),\n",
              " array([ 4.8930017 , -2.65265325]),\n",
              " array([ 5.21881727, -2.89855224]),\n",
              " array([ 5.11521032, -2.91376534]),\n",
              " array([ 5.01732869, -2.96249624]),\n",
              " array([ 4.9237533 , -2.56757065]),\n",
              " array([ 5.0440359 , -2.47247073]),\n",
              " array([ 5.20165598, -2.54602257]),\n",
              " array([ 5.39367943, -2.35451283]),\n",
              " array([ 5.62331773, -2.11167285]),\n",
              " array([ 5.52643163, -1.78599296]),\n",
              " array([ 5.46895452, -1.54931483]),\n",
              " array([ 5.4295477 , -1.18725473]),\n",
              " array([ 5.32662887, -1.6514006 ]),\n",
              " array([ 5.20076178, -1.52229548]),\n",
              " array([ 5.2023032, -1.4707665]),\n",
              " array([ 5.01090862, -1.62243015]),\n",
              " array([ 5.08518753, -1.76599094]),\n",
              " array([ 4.99509171, -1.67064914]),\n",
              " array([ 4.85710589, -1.42859336]),\n",
              " array([ 4.80967793, -1.11138186]),\n",
              " array([ 4.44933158, -1.14107672]),\n",
              " array([ 4.46685963, -1.10019866]),\n",
              " array([ 4.27070616, -0.76220387]),\n",
              " array([ 4.11091045, -0.98144717]),\n",
              " array([ 4.12052963, -0.87438983]),\n",
              " array([ 4.10396478, -1.05051286]),\n",
              " array([ 4.11340402, -1.09506598]),\n",
              " array([ 4.23607059, -1.01403404]),\n",
              " array([ 4.33359405, -0.6945948 ]),\n",
              " array([ 4.45581732, -0.36087924]),\n",
              " array([ 4.7212497 , -0.76333871]),\n",
              " array([ 4.90895406, -0.9546825 ]),\n",
              " array([ 4.94283794, -0.98849713]),\n",
              " array([ 5.08387815, -0.69790895]),\n",
              " array([ 4.9867358 , -0.80648004]),\n",
              " array([ 5.07030595, -0.81515645]),\n",
              " array([ 4.90473949, -0.65800214]),\n",
              " array([ 4.83299621, -0.50713207]),\n",
              " array([ 4.71206691, -0.65718027]),\n",
              " array([ 5.08233776, -0.65343201]),\n",
              " array([ 5.43887316, -0.63861993]),\n",
              " array([ 5.17879336, -0.56726907]),\n",
              " array([ 5.24952973, -0.6511727 ]),\n",
              " array([ 5.25792838, -0.88042242]),\n",
              " array([ 5.36389973, -1.11065085]),\n",
              " array([ 4.94717008, -1.10218343]),\n",
              " array([ 4.78106315, -1.14748497]),\n",
              " array([ 4.52495648, -1.20989986]),\n",
              " array([ 4.22055634, -0.86939115]),\n",
              " array([ 4.13989766, -0.88671421]),\n",
              " array([ 4.06127593, -1.07383331]),\n",
              " array([ 4.06402508, -1.33072797]),\n",
              " array([ 3.94404096, -1.26451999]),\n",
              " array([ 3.6389068 , -1.11767119]),\n",
              " array([ 3.60491496, -1.27112733]),\n",
              " array([ 3.61555769, -1.52322528]),\n",
              " array([ 3.77040162, -1.40185498]),\n",
              " array([ 3.84994584, -1.3762603 ]),\n",
              " array([ 3.62548313, -1.17799359]),\n",
              " array([ 3.67232316, -1.22703335]),\n",
              " array([ 3.50427311, -0.75413574]),\n",
              " array([ 3.41109031, -0.53112336]),\n",
              " array([ 3.22585326, -0.63651316]),\n",
              " array([ 3.15383245, -0.4627753 ]),\n",
              " array([ 3.42564574, -0.49858561]),\n",
              " array([ 3.59712866, -0.1214084 ]),\n",
              " array([ 3.87708572, -0.3700299 ]),\n",
              " array([ 3.85939426, -0.36437064]),\n",
              " array([ 3.87458159, -0.33005734]),\n",
              " array([ 3.75245263, -0.1985098 ]),\n",
              " array([ 3.7408115 , -0.30076142]),\n",
              " array([ 3.84555541, -0.21096085]),\n",
              " array([ 3.89784072, -0.08220981]),\n",
              " array([ 4.02691921, -0.19626476]),\n",
              " array([ 4.16764615, -0.13489209]),\n",
              " array([ 4.25805163, -0.15268302]),\n",
              " array([ 4.06445627, -0.03327954]),\n",
              " array([ 4.16729754, -0.06351386]),\n",
              " array([ 4.44314131, -0.29878585]),\n",
              " array([ 4.42491868, -0.45786743]),\n",
              " array([ 4.5703947 , -0.72850629]),\n",
              " array([ 4.38555366, -0.6425219 ]),\n",
              " array([ 4.32321964, -0.3542105 ]),\n",
              " array([ 4.24921531, -0.34201902]),\n",
              " array([ 4.08596147, -0.13042283]),\n",
              " array([ 3.97411789, -0.06086741]),\n",
              " array([3.7422146 , 0.11258754]),\n",
              " array([ 4.16808936, -0.09563733]),\n",
              " array([4.21847828, 0.2017285 ]),\n",
              " array([4.15126111e+00, 2.67746341e-03]),\n",
              " array([ 4.10307646, -0.10833333]),\n",
              " array([4.02507463, 0.04678172]),\n",
              " array([ 4.42198013, -0.05778575]),\n",
              " array([ 4.25212964, -0.22896862]),\n",
              " array([ 4.04881403, -0.07130032]),\n",
              " array([ 4.26876576, -0.26284405]),\n",
              " array([ 4.34261215, -0.22441833]),\n",
              " array([ 4.35285996, -0.12871472]),\n",
              " array([ 3.92618745, -0.00602188]),\n",
              " array([4.03206663, 0.11569304]),\n",
              " array([4.0267217, 0.2589902]),\n",
              " array([ 4.23179901, -0.40557407]),\n",
              " array([ 4.27207685, -0.17761286]),\n",
              " array([4.02298329, 0.07080442]),\n",
              " array([ 3.72050377, -0.10041913]),\n",
              " array([3.89651083, 0.23287793]),\n",
              " array([3.94321109, 0.0791276 ]),\n",
              " array([4.00469304, 0.26276365]),\n",
              " array([3.62811913, 0.52644212]),\n",
              " array([3.73964756, 0.67752421]),\n",
              " array([3.42550047, 0.54646343]),\n",
              " array([3.25299269, 0.46659966]),\n",
              " array([3.26723543, 0.55932422]),\n",
              " array([3.21320386, 0.87200812]),\n",
              " array([3.25284853, 0.8514963 ]),\n",
              " array([3.49766036, 0.43832378]),\n",
              " array([3.70334149, 0.53430351]),\n",
              " array([3.65471965, 0.69060378]),\n",
              " array([4.05623735, 0.3456381 ]),\n",
              " array([4.10777678, 0.70025333]),\n",
              " array([4.01863162, 1.14886718]),\n",
              " array([3.8792162 , 1.00424554]),\n",
              " array([3.8734774 , 0.85444364]),\n",
              " array([3.97760405, 0.836442  ]),\n",
              " array([4.11520236, 0.81349494]),\n",
              " array([3.92144948, 0.67596772]),\n",
              " array([3.81904385, 0.59717403]),\n",
              " array([3.68267793, 0.6800806 ]),\n",
              " array([3.36883523, 0.39472266]),\n",
              " array([3.18540818, 0.58739814]),\n",
              " array([3.14323089, 1.10570025]),\n",
              " array([3.31706341, 1.11336175]),\n",
              " array([3.1857208 , 0.96157747]),\n",
              " array([3.07378546, 0.94262238]),\n",
              " array([2.6956353, 1.0708828]),\n",
              " array([2.34107299, 0.72196733]),\n",
              " array([2.42843897, 0.60068767]),\n",
              " array([2.35428819, 0.30865202]),\n",
              " array([2.57777888, 0.18448026]),\n",
              " array([2.73554665, 0.01887548]),\n",
              " array([2.6553973 , 0.31997001]),\n",
              " array([2.75181721, 0.32531331]),\n",
              " array([2.6146384 , 0.19659582]),\n",
              " array([ 2.76582219e+00, -4.13526220e-04]),\n",
              " array([ 2.72411763, -0.00867685]),\n",
              " array([3.12366713, 0.27425772]),\n",
              " array([2.74306776, 0.11583191]),\n",
              " array([ 2.37868431e+00, -3.56432910e-04]),\n",
              " array([2.07123356, 0.30161113]),\n",
              " array([2.07104202, 0.38783034]),\n",
              " array([1.89154424, 0.15089563]),\n",
              " array([2.03472863, 0.0777075 ]),\n",
              " array([2.1626503 , 0.22222497]),\n",
              " array([1.91995554, 0.01780517]),\n",
              " array([ 1.78569865, -0.20396907]),\n",
              " array([ 1.88304972, -0.55466084]),\n",
              " array([ 1.683901  , -0.49561083]),\n",
              " array([ 1.46280682, -0.66458917]),\n",
              " array([ 1.2689186 , -0.74782665]),\n",
              " array([ 1.19600493, -0.44563292]),\n",
              " ...]"
            ]
          },
          "metadata": {},
          "execution_count": 13
        }
      ]
    },
    {
      "cell_type": "code",
      "metadata": {
        "ExecuteTime": {
          "end_time": "2017-06-19T13:08:26.943019",
          "start_time": "2017-06-19T13:08:25.120702"
        },
        "run_control": {
          "frozen": false,
          "read_only": false
        },
        "scrolled": false,
        "id": "90itQyhSaQIn"
      },
      "source": [
        "# look at the sampled posterior  space\n",
        "pl.figure(figsize=(10,5))\n",
        "pl.plot(np.array(walk)[:,0],'k-', label=\"slope\")\n",
        "pl.legend()\n",
        "pl.show()\n",
        "print (\"Fig 2:  slope MCMC chain\")\n",
        "\n",
        "pl.figure(figsize=(10,5))\n",
        "pl.plot(np.array(walk)[:,1], 'k-', label=\"intercept\")\n",
        "pl.legend()\n",
        "pl.show()\n",
        "print (\"Fig 3:  intercept MCMC chain\")\n",
        "\n",
        "pl.figure()\n",
        "pl.hist(np.array(walk)[:,0], alpha=0.5, label=\"slope\")\n",
        "\n",
        "pl.hist(np.array(walk)[:,1], alpha=0.5, label=\"intercept\")\n",
        "pl.legend()\n",
        "pl.show()\n",
        "print (\"Fig 4:  slope and intercept MCMC posterior distributions\")\n"
      ],
      "execution_count": null,
      "outputs": []
    },
    {
      "cell_type": "code",
      "metadata": {
        "ExecuteTime": {
          "end_time": "2017-06-19T13:11:53.243063",
          "start_time": "2017-06-19T13:11:52.138785"
        },
        "run_control": {
          "frozen": false,
          "read_only": false
        },
        "id": "oLYIgiqNaQIn"
      },
      "source": [
        "fig = corner.corner(np.array(walk), labels=[\"$m$\",\"$intercept$\"],\n",
        "                   truths=(m_mcmc[0], b_mcmc[0]))\n",
        "pl.show()\n",
        "print (\"Fig 5: posterior joint distribution - generative model truth indicated in blue\")"
      ],
      "execution_count": null,
      "outputs": []
    },
    {
      "cell_type": "code",
      "metadata": {
        "id": "24rOvABucYgx"
      },
      "source": [
        "# Choose the \"true\" parameters.\n",
        "m_true = 1.8\n",
        "b_true = 2.3\n",
        "\n",
        "# Generate some synthetic data from the model.\n",
        "N = 20\n",
        "np.random.seed(123)\n",
        "x = np.sort(np.random.rand(N) * 20)\n",
        "y = line(m_true, b_true, x)\n",
        "yerr = np.sqrt(y) + np.random.randn(N)\n",
        "y += yerr * np.random.randn(N) * 2\n",
        "\n",
        "ax = pl.figure(figsize=(10,5)).add_subplot(111)\n",
        "ax.set_ylabel('y')\n",
        "ax.set_xlabel('x')\n",
        "ax.errorbar(x, y, yerr=yerr, fmt='k.')\n",
        "ax.plot(pl.xlim(), line(m_true, b_true,  np.array(pl.xlim())), 'k-', alpha=0.8, lw=2)\n",
        "ax.plot(pl.xlim(), line(m_mcmc[0], b_mcmc[0],  np.array(pl.xlim())), 'r-', alpha=0.8, lw=2)\n",
        "\n",
        "pl.show()\n",
        "print (\"Figure 1: a line generative model and the data it generates with Poisson errors augmented by Gaussian errors\")"
      ],
      "execution_count": null,
      "outputs": []
    },
    {
      "cell_type": "markdown",
      "metadata": {
        "run_control": {
          "frozen": false,
          "read_only": false
        },
        "id": "MP7Crz8xaQIn"
      },
      "source": [
        "# Affine Invariant MCMC sample (with emcee)\n",
        "\n",
        "The emcee package implements Affine Invariant MCMC in python\n",
        "\n",
        "https://emcee.readthedocs.io/en/stable/tutorials/quickstart/"
      ]
    },
    {
      "cell_type": "code",
      "metadata": {
        "id": "MDEPJTqE1zWY"
      },
      "source": [
        "# ENCEE needs a lnprob function to put together prior and posterior (in log space)\n",
        "def lnprob(theta, x, y, yerr):\n",
        "    lp = lnprior(theta)\n",
        "    if not np.isfinite(lp):\n",
        "        return -np.inf\n",
        "    return lp + lnlike(theta, x, y, yerr)"
      ],
      "execution_count": null,
      "outputs": []
    },
    {
      "cell_type": "code",
      "metadata": {
        "id": "o3pWb6B91yy6"
      },
      "source": [
        "start = np.array([m_true, b_true])\n",
        "ndim, nwalkers, nsteps = start.shape[0], 100, 500\n",
        "pos = [start + 1e-4*np.random.randn(ndim) for i in range(nwalkers)]\n",
        "pos"
      ],
      "execution_count": null,
      "outputs": []
    },
    {
      "cell_type": "code",
      "metadata": {
        "id": "jQqMmVXp1yRi",
        "colab": {
          "base_uri": "https://localhost:8080/",
          "height": 910
        },
        "outputId": "65802b70-055f-4dbd-bac5-817b1168a042"
      },
      "source": [
        "pl.plot(np.array(pos)[:,0], np.array(pos)[:,1], '.')\n",
        "pl.plot(m_true, b_true, 'x')\n",
        "pl.xlabel(\"slopes\")\n",
        "pl.ylabel(\"intercepts\")"
      ],
      "execution_count": null,
      "outputs": [
        {
          "output_type": "execute_result",
          "data": {
            "text/plain": [
              "Text(0, 0.5, 'intercepts')"
            ]
          },
          "metadata": {},
          "execution_count": 18
        },
        {
          "output_type": "display_data",
          "data": {
            "text/plain": [
              "<Figure size 1000x1000 with 1 Axes>"
            ],
            "image/png": "[encoded data removed]"
          },
          "metadata": {}
        }
      ]
    },
    {
      "cell_type": "code",
      "metadata": {
        "id": "uvWwZuBT1xtI"
      },
      "source": [
        "#create the sampler object\n",
        "sampler = emcee.EnsembleSampler(nwalkers, ndim, lnprob, args=(x, y, yerr))\n",
        "#run the sampler model\n",
        "sampler.run_mcmc(pos, nsteps);"
      ],
      "execution_count": null,
      "outputs": []
    },
    {
      "cell_type": "code",
      "metadata": {
        "id": "HHLbpdDXbr-I"
      },
      "source": [
        "#this creates 100 chains of 100 steaps each, each exploring 2 variables\n",
        "sampler.chain.shape"
      ],
      "execution_count": null,
      "outputs": []
    },
    {
      "cell_type": "code",
      "metadata": {
        "id": "4jbEkPSkbyx0"
      },
      "source": [
        "#throw away the first 150 points and visualize the location of the chais at each step\n",
        "samples = sampler.chain[:, 150:, :].reshape((-1, ndim))\n",
        "fig = corner.corner(samples, labels=[\"$m$\",\"$intercept$\"],\n",
        "                      truths=[m_true, b_true])\n",
        "pl.show()\n",
        "print (\"Fig 6: EMCEE with {0:d} chains of {0:d} steps  \".format(nwalkers, nsteps) +\n",
        "       \"- generative model truth indicated in blue\")"
      ],
      "execution_count": null,
      "outputs": []
    },
    {
      "cell_type": "code",
      "metadata": {
        "id": "a-bZLiYubsgY"
      },
      "source": [
        "m_mcmc, b_mcmc = map(lambda v: (v[1], v[2]-v[1], v[1]-v[0]),\n",
        "                             zip(*np.percentile(samples, [16, 50, 84],\n",
        "                                                axis=0)))"
      ],
      "execution_count": null,
      "outputs": []
    },
    {
      "cell_type": "code",
      "metadata": {
        "colab": {
          "base_uri": "https://localhost:8080/"
        },
        "id": "lacaWm6nbs9_",
        "outputId": "3ed32ae0-141f-480e-8cbe-d4931705edb4"
      },
      "source": [
        "mcmcRes = np.concatenate([m_mcmc, b_mcmc])\n",
        "print (\"MCMC result:\\nslope\\t\\t{0:+.2f} ({1:.2f}, {2:.2f})\\nintercept\\t{3:.2f} ({4:.2f}, {5:.2f})\".format(*mcmcRes))"
      ],
      "execution_count": null,
      "outputs": [
        {
          "output_type": "stream",
          "name": "stdout",
          "text": [
            "MCMC result:\n",
            "slope\t\t+2.68 (0.20, 0.21)\n",
            "intercept\t-4.18 (1.99, 1.87)\n"
          ]
        }
      ]
    },
    {
      "cell_type": "code",
      "metadata": {
        "ExecuteTime": {
          "end_time": "2017-06-19T13:23:38.670432",
          "start_time": "2017-06-19T13:23:37.595822"
        },
        "run_control": {
          "frozen": false,
          "read_only": false
        },
        "id": "mdwZ9AcYaQIp"
      },
      "source": [
        "ax = pl.figure(figsize=(10,5)).add_subplot(111)\n",
        "ax.set_ylabel('y')\n",
        "ax.set_xlabel('x')\n",
        "ax.errorbar(x, y, yerr=yerr, fmt='k.')\n",
        "ax.plot(pl.xlim(), line(m_mcmc[0], b_mcmc[0],  np.array(pl.xlim())), '-', alpha=0.8, lw=2)\n",
        "ax.plot(pl.xlim(), line(m_true, b_true,  np.array(pl.xlim())), 'k-',\n",
        "        alpha=0.8, lw=2, label=\"generative\")\n",
        "for m, b in samples[np.random.randint(len(samples), size=100)]:\n",
        "    ax.plot(x, m*x+b, color=\"SteelBlue\", alpha=0.05)\n",
        "ax.legend(loc=2)\n",
        "pl.show()\n",
        "print (\"Figure 8: a line generative model and the data it generates with Poisson errors augmented by Gaussian errors.\\n\" +\n",
        "       \"In blue model with the MCMC best fit parameters, \"  +\n",
        "       \"identified as the median of the joint posterior distributions, is indicated.\\n\" +\n",
        "       \"In light blue shades the model with the best parameters for each chain is plotted\")"
      ],
      "execution_count": null,
      "outputs": []
    },
    {
      "cell_type": "markdown",
      "metadata": {
        "id": "GHrOQg7DaQIp"
      },
      "source": [
        "# Comparison with analytical solution"
      ]
    },
    {
      "cell_type": "code",
      "metadata": {
        "ExecuteTime": {
          "end_time": "2017-06-19T13:23:42.668334",
          "start_time": "2017-06-19T13:23:42.658575"
        },
        "collapsed": true,
        "run_control": {
          "frozen": false,
          "read_only": false
        },
        "id": "igHE9vZVaQIp"
      },
      "source": [
        "# linear algebra solution\n",
        "A = np.vstack((np.ones_like(x), x)).T\n",
        "C = np.diag(yerr * yerr)\n",
        "cov = np.linalg.inv(np.dot(A.T, np.linalg.solve(C, A)))\n",
        "b_ls, m_ls = np.dot(cov, np.dot(A.T, np.linalg.solve(C, y)))"
      ],
      "execution_count": null,
      "outputs": []
    },
    {
      "cell_type": "code",
      "metadata": {
        "ExecuteTime": {
          "end_time": "2017-06-19T13:24:47.626802",
          "start_time": "2017-06-19T13:24:46.282827"
        },
        "run_control": {
          "frozen": false,
          "read_only": false
        },
        "id": "9FSWmOHpaQIq"
      },
      "source": [
        "ax = pl.figure(figsize=(10,5)).add_subplot(111)\n",
        "ax.set_ylabel('y')\n",
        "ax.set_xlabel('x')\n",
        "ax.errorbar(x, y, yerr=yerr, fmt='k.')\n",
        "ax.plot(pl.xlim(), line(m_mcmc[0], b_mcmc[0],  np.array(pl.xlim())), '-', alpha=0.8, lw=2)\n",
        "ax.plot(pl.xlim(), line(m_true, b_true,  np.array(pl.xlim())), 'k-',\n",
        "        alpha=0.8, lw=2, label=\"generative\")\n",
        "for m, b in samples[np.random.randint(len(samples), size=100)]:\n",
        "    ax.plot(x, m*x+b, color=\"SteelBlue\", alpha=0.05)\n",
        "ax.plot(pl.xlim(), line(m_ls, b_ls,  np.array(pl.xlim())), '--',\n",
        "        alpha=0.8, lw=2, label=\"OLS\")\n",
        "pl.legend();\n",
        "print (\"Figure 8: a line generative model and the data it generates with Poisson errors augmented by Gaussian errors.\\n\" +\n",
        "       \"In blue model with the MCMC best fit parameters, \"  +\n",
        "       \"identified as the median of the joint posterior distributions, is indicated.\\n\" +\n",
        "       \"In light blue shades the model with the best parameters for each chain is plotted\\n\" +\n",
        "       \"In orange the anayltical solution (OLS) is indicated by a dashed line\")"
      ],
      "execution_count": null,
      "outputs": []
    },
    {
      "cell_type": "code",
      "metadata": {
        "ExecuteTime": {
          "end_time": "2017-06-19T13:25:37.922761",
          "start_time": "2017-06-19T13:25:35.839245"
        },
        "collapsed": true,
        "run_control": {
          "frozen": false,
          "read_only": false
        },
        "id": "tAwUOonOaQIq"
      },
      "source": [
        "pos = [np.array([m_ls, b_ls]) + 1e-4*np.random.randn(ndim) for i in range(nwalkers)]\n",
        "sampler = emcee.EnsembleSampler(nwalkers, ndim, lnprob, args=(x, y, yerr))\n",
        "sampler.run_mcmc(pos, nsteps);"
      ],
      "execution_count": null,
      "outputs": []
    },
    {
      "cell_type": "code",
      "metadata": {
        "ExecuteTime": {
          "end_time": "2017-06-19T13:25:53.519413",
          "start_time": "2017-06-19T13:25:52.267805"
        },
        "run_control": {
          "frozen": false,
          "read_only": false
        },
        "id": "ifgNzDk_aQIq"
      },
      "source": [
        "samples = sampler.chain[:, 150:, :].reshape((-1, ndim))\n",
        "fig = corner.corner(samples, labels=[\"$m$\",\"$intercept$\"],\n",
        "                      truths=[m_true, b_true])\n",
        "pl.show()\n",
        "print (\"Fig 10: EMCEE with 100 chains of 100 steps  - generative model truth indicated in blue, the starting point was the OLS solution\")\n"
      ],
      "execution_count": null,
      "outputs": []
    },
    {
      "cell_type": "code",
      "metadata": {
        "ExecuteTime": {
          "end_time": "2017-06-19T13:27:51.490739",
          "start_time": "2017-06-19T13:27:51.462227"
        },
        "run_control": {
          "frozen": false,
          "read_only": false
        },
        "colab": {
          "base_uri": "https://localhost:8080/"
        },
        "id": "yB6IE1iuaQIq",
        "outputId": "521f32d6-a6b6-402e-f7f9-b1c45ac1ed97"
      },
      "source": [
        "m_mcmc, b_mcmc = map(lambda v: (v[1], v[2]-v[1], v[1]-v[0]),\n",
        "                             zip(*np.percentile(samples, [16, 50, 84],\n",
        "                                                axis=0)))\n",
        "mcmcRes = np.concatenate([m_mcmc, b_mcmc])\n",
        "print (\"MCMC result:\\nslope\\t\\t{0:+.2f} ({1:.2f}, {2:.2f})\\nintercept\\t{3:.2f} ({4:.2f}, {5:.2f})\".format(*mcmcRes))"
      ],
      "execution_count": null,
      "outputs": [
        {
          "output_type": "stream",
          "name": "stdout",
          "text": [
            "MCMC result:\n",
            "slope\t\t+2.68 (0.20, 0.20)\n",
            "intercept\t-4.21 (1.92, 1.94)\n"
          ]
        }
      ]
    },
    {
      "cell_type": "markdown",
      "metadata": {
        "id": "0zNcJ4fjaQIq"
      },
      "source": [
        "# Test convergence by looking at the autocorrelation"
      ]
    },
    {
      "cell_type": "code",
      "metadata": {
        "ExecuteTime": {
          "end_time": "2017-06-19T13:28:16.914564",
          "start_time": "2017-06-19T13:28:13.437545"
        },
        "run_control": {
          "frozen": false,
          "read_only": false
        },
        "id": "XTyD5qVAaQIr"
      },
      "source": [
        "def acorr(x):\n",
        "    ax = pl.figure(figsize=(10,5)).add_subplot(111)\n",
        "\n",
        "    x = x - x.mean()\n",
        "\n",
        "    autocorr = np.correlate(x, x, mode='full')\n",
        "    autocorr = autocorr[x.size:]\n",
        "    autocorr /= autocorr.max()\n",
        "\n",
        "    return ax.stem(autocorr)\n",
        "\n",
        "acorr(sampler.chain[0,:,0])\n",
        "pl.show()\n",
        "print (\"Fig 11: Chain Autocorrelation\")"
      ],
      "execution_count": null,
      "outputs": []
    },
    {
      "cell_type": "markdown",
      "metadata": {
        "id": "R_WcAT3JaQIr"
      },
      "source": [
        "# Increase the steps in the chain"
      ]
    },
    {
      "cell_type": "code",
      "metadata": {
        "ExecuteTime": {
          "end_time": "2017-06-19T13:29:35.638147",
          "start_time": "2017-06-19T13:29:30.245258"
        },
        "collapsed": true,
        "run_control": {
          "frozen": false,
          "read_only": false
        },
        "id": "JSvtuJw9aQIr"
      },
      "source": [
        "ndim, nwalkers, nsteps = 2, 100, 1500\n",
        "pos = [np.array([m_ls, b_ls]) + 1e-4*np.random.randn(ndim) for i in range(nwalkers)]\n",
        "sampler = emcee.EnsembleSampler(nwalkers, ndim, lnprob, args=(x, y, yerr))\n",
        "sampler.run_mcmc(pos, 1500);"
      ],
      "execution_count": null,
      "outputs": []
    },
    {
      "cell_type": "code",
      "metadata": {
        "ExecuteTime": {
          "end_time": "2017-06-19T13:30:42.978911",
          "start_time": "2017-06-19T13:30:18.647356"
        },
        "run_control": {
          "frozen": false,
          "read_only": false
        },
        "scrolled": false,
        "id": "3uNtKWKtaQIr"
      },
      "source": [
        "samples = sampler.chain[:, 150:, :].reshape((-1, ndim))\n",
        "fig = corner.corner(samples, labels=[\"$m$\",\"$intercept$\"],\n",
        "                      truths=[m_true, b_true])\n",
        "m_mcmc, b_mcmc = map(lambda v: (v[1], v[2]-v[1], v[1]-v[0]),\n",
        "                             zip(*np.percentile(samples, [16, 50, 84],\n",
        "                                                axis=0)))\n",
        "m_mcmc, b_mcmc\n",
        "\n",
        "acorr(sampler.chain[0,:,0])\n",
        "acorr(sampler.chain[1,:,0])\n",
        "pl.show()\n",
        "print (\"Fig 12: Corner plot showing the joint posterior and chain autocorrelation for 2 longer chain of %d steps\"%nsteps)"
      ],
      "execution_count": null,
      "outputs": []
    },
    {
      "cell_type": "markdown",
      "metadata": {
        "id": "fLt5eACqM9q7"
      },
      "source": [
        "# underestimated uncertainties?\n",
        "read section 6 https://arxiv.org/pdf/1008.4686.pdf\n",
        "\n",
        "this example is developed here https://emcee.readthedocs.io/en/stable/tutorials/line/"
      ]
    },
    {
      "cell_type": "markdown",
      "metadata": {
        "id": "PGvTlQA0aQIr"
      },
      "source": [
        "a linear model\n",
        "\n",
        "$\\log{p(\\vec{y}|\\vec{x},\\vec{y_{err}}, m,b)} \\propto -\\frac{1}{2}\\sum_i {\\frac{(y_i-(mx_i + b))^2}{y_{err,i}^2}}$\n",
        "\n",
        "a linear model where the quoted uncertainties are underestimated by a constant fractional amount\n",
        "\n",
        "$s^2 = y_{err}^2 + a^2(mx+b)^2$\n",
        "\n",
        "$\\log{p(\\vec{y}|\\vec{x},\\vec{y_{err}}, m,b,a)} \\propto -\\frac{1}{2}\\sum_i \\left({\\frac{(y_i-(mx_i + b))^2}{s_i^2}} + \\log (2\\pi s_i^2)\\right)$"
      ]
    },
    {
      "cell_type": "code",
      "metadata": {
        "id": "pDqo-5mUDCNp"
      },
      "source": [
        "\n",
        "def lnlike(theta, x, y, yerr):\n",
        "\n",
        "    m, b, a = theta\n",
        "    s2 = yerr ** 2 + line(m, b, x) ** 2 * a**2\n",
        "    #return -0.5*(np.sum((line(m, b, x) - y)**2 / (s**2) + np.log(2*np.pi*s**2)))\n",
        "    return -0.5*(np.sum((line(m, b, x) - y)**2 / (s2) + np.log(s2)))"
      ],
      "execution_count": null,
      "outputs": []
    },
    {
      "cell_type": "code",
      "metadata": {
        "id": "HO6DY4FbJwmT"
      },
      "source": [
        "def lnprior(theta):\n",
        "    m, b, a = theta\n",
        "    if -10 < b < 10 and 0 < m < 10 and a >= 0:\n",
        "        return 0.0\n",
        "    return -np.inf"
      ],
      "execution_count": null,
      "outputs": []
    },
    {
      "cell_type": "code",
      "metadata": {
        "id": "-h3kylVfJNwA"
      },
      "source": [
        "ndim, nwalkers, nsteps = 3, 100, 1500\n",
        "pos = [np.array([m_ls, b_ls, 0.01]) + 1e-4*np.random.randn(ndim) for i in range(nwalkers)]\n",
        "sampler = emcee.EnsembleSampler(nwalkers, ndim, lnprob, args=(x, y, yerr))\n",
        "sampler.run_mcmc(pos, 1500);"
      ],
      "execution_count": null,
      "outputs": []
    },
    {
      "cell_type": "code",
      "metadata": {
        "id": "Xe5FFkTuKsE4"
      },
      "source": [
        "fig, axes = plt.subplots(ndim, figsize=(10, 7), sharex=True)\n",
        "samples = sampler.get_chain()\n",
        "\n",
        "for i in range(ndim):\n",
        "    ax = axes[i]\n",
        "    ax.plot(samples[:, :, i], \"k\", alpha=0.3)\n",
        "    ax.set_xlim(0, len(samples))\n",
        "    ax.yaxis.set_label_coords(-0.1, 0.5)\n",
        "\n",
        "axes[-1].set_xlabel(\"step number\");"
      ],
      "execution_count": null,
      "outputs": []
    },
    {
      "cell_type": "code",
      "metadata": {
        "colab": {
          "base_uri": "https://localhost:8080/"
        },
        "id": "JJYyeyAWKgUr",
        "outputId": "40245a29-6e8b-454a-f4ad-2dcfb508b4a8"
      },
      "source": [
        "samples = sampler.chain[:, 150:, :].reshape((-1, ndim))\n",
        "np.percentile(samples, [50], axis=0)"
      ],
      "execution_count": null,
      "outputs": [
        {
          "output_type": "execute_result",
          "data": {
            "text/plain": [
              "array([[ 2.75030491, -3.77701882,  0.39146039]])"
            ]
          },
          "metadata": {},
          "execution_count": 37
        }
      ]
    },
    {
      "cell_type": "code",
      "metadata": {
        "id": "hXSTE1Z3Jka_"
      },
      "source": [
        "fig = corner.corner(samples, labels=[\"$m$\",\"$intercept$\", \"a\"],\n",
        "                      truths=np.percentile(samples, [50],\n",
        "                                               axis=0)[0]\n",
        "                       )\n",
        "m_mcmc, b_mcmc, a_mcmc = map(lambda v: (v[1], v[2]-v[1], v[1]-v[0]),\n",
        "                             zip(*np.percentile(samples, [16, 50, 84],\n",
        "                                                axis=0)))\n",
        "pl.show()\n"
      ],
      "execution_count": null,
      "outputs": []
    },
    {
      "cell_type": "code",
      "source": [],
      "metadata": {
        "id": "driN5Xg6-1Ub"
      },
      "execution_count": null,
      "outputs": []
    }
  ]
}