{
  "nbformat": 4,
  "nbformat_minor": 0,
  "metadata": {
    "colab": {
      "name": "lab3_PI_fbb.ipynb",
      "provenance": [],
      "include_colab_link": true
    },
    "kernelspec": {
      "name": "python3",
      "display_name": "Python 3"
    }
  },
  "cells": [
    {
      "cell_type": "code",
      "metadata": {
        "id": "48HNFOn1xKVX",
        "colab": {
          "base_uri": "https://localhost:8080/"
        },
        "outputId": "59f4e06b-d92f-4e89-84ad-3f73bc765c7b"
      },
      "source": [
        "import numpy as np\n",
        "import pylab as pl\n",
        "#!pip install astropy\n",
        "import astropy\n",
        "from astropy import units as u\n",
        "\n",
        "\n",
        "%pylab inline\n"
      ],
      "execution_count": null,
      "outputs": [
        {
          "output_type": "stream",
          "name": "stdout",
          "text": [
            "Populating the interactive namespace from numpy and matplotlib\n"
          ]
        }
      ]
    },
    {
      "cell_type": "markdown",
      "metadata": {
        "id": "_3wBMf6fiA5l"
      },
      "source": [
        "What you know: The ratio of the area of the circle to the area of the square is π / 4."
      ]
    },
    {
      "cell_type": "code",
      "metadata": {
        "id": "0ZofSIqBFVcC"
      },
      "source": [
        "def square(l, ax):\n",
        "  ax.plot([-l, l], [-l, -l], 'k-')\n",
        "  ax.plot([-l, l], [l, l], 'k-')\n",
        "  ax.plot([-l, -l], [-l, l], 'k-')\n",
        "  ax.plot([l, l], [-l, l], 'k-')\n",
        "  "
      ],
      "execution_count": null,
      "outputs": []
    },
    {
      "cell_type": "code",
      "metadata": {
        "id": "gebTwteLGY5C"
      },
      "source": [
        "def circle(l, ax):\n",
        "  theta = np.linspace(0, 360, 100)\n",
        "  theta *= u.degree\n",
        "  x = l * np.cos(theta.to(u.rad))\n",
        "  y = l * np.sin(theta.to(u.rad))\n",
        "  ax.plot(x, y, 'k-')\n",
        "  "
      ],
      "execution_count": null,
      "outputs": []
    },
    {
      "cell_type": "code",
      "metadata": {
        "id": "jmujRXm-xW_O",
        "colab": {
          "base_uri": "https://localhost:8080/",
          "height": 320
        },
        "outputId": "c7c80942-2f90-4175-d087-5939b2675a5d"
      },
      "source": [
        "fig, ax = pl.subplots(figsize=(5, 5))\n",
        "square(1, ax=ax)\n",
        "circle(1, ax=ax)"
      ],
      "execution_count": null,
      "outputs": [
        {
          "output_type": "display_data",
          "data": {
            "image/png": "[encoded data removed]",
            "text/plain": [
              "<Figure size 360x360 with 1 Axes>"
            ]
          },
          "metadata": {
            "needs_background": "light"
          }
        }
      ]
    },
    {
      "cell_type": "code",
      "metadata": {
        "id": "dzUf8KLOKH30"
      },
      "source": [
        "def isin(x, y, l):\n",
        "  ..."
      ],
      "execution_count": null,
      "outputs": []
    },
    {
      "cell_type": "code",
      "metadata": {
        "id": "6lBzW1sQFv5W"
      },
      "source": [
        "np.random.seed(123)\n"
      ],
      "execution_count": null,
      "outputs": []
    },
    {
      "cell_type": "code",
      "metadata": {
        "id": "gAGyGI3sT1CX"
      },
      "source": [
        "..."
      ],
      "execution_count": null,
      "outputs": []
    },
    {
      "cell_type": "code",
      "metadata": {
        "id": "rnGd0eVXLF1V"
      },
      "source": [
        ""
      ],
      "execution_count": null,
      "outputs": []
    },
    {
      "cell_type": "code",
      "metadata": {
        "id": "AzKnnKWkL6XE"
      },
      "source": [
        ""
      ],
      "execution_count": null,
      "outputs": []
    }
  ]
}
