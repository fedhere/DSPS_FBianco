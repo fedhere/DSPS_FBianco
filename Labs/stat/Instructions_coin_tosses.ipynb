{
  "nbformat": 4,
  "nbformat_minor": 0,
  "metadata": {
    "colab": {
      "provenance": [],
      "authorship_tag": "ABX9TyOZPoDWTsIFU0Q4KobcSysD",
      "include_colab_link": true
    },
    "kernelspec": {
      "name": "python3",
      "display_name": "Python 3"
    },
    "language_info": {
      "name": "python"
    }
  },
  "cells": [
    {
      "cell_type": "markdown",
      "metadata": {
        "id": "view-in-github",
        "colab_type": "text"
      },
      "source": [
        "<a href=\"https://colab.research.google.com/github/fedhere/DSPS_FBianco/blob/main/Labs/stat/Instructions_coin_tosses.ipynb\" target=\"_parent\"><img src=\"https://colab.research.google.com/assets/colab-badge.svg\" alt=\"Open In Colab\"/></a>"
      ]
    },
    {
      "cell_type": "code",
      "execution_count": null,
      "metadata": {
        "id": "jrrkXl4JWgBq"
      },
      "outputs": [],
      "source": [
        "#imports here"
      ]
    },
    {
      "cell_type": "code",
      "source": [
        "# get 10 coin tosses with the numpy.random.rand function, make a histogram\n",
        "..."
      ],
      "metadata": {
        "colab": {
          "base_uri": "https://localhost:8080/",
          "height": 472
        },
        "id": "7zyVZ9c8Wwqn",
        "outputId": "bbf336bf-fbdc-41b3-aa5a-2d22a4075a28",
        "collapsed": true
      },
      "execution_count": null,
      "outputs": [
        {
          "output_type": "display_data",
          "data": {
            "text/plain": [
              "<Figure size 640x480 with 1 Axes>"
            ],
            "image/png": "[encoded data removed]"
          },
          "metadata": {}
        }
      ]
    },
    {
      "cell_type": "markdown",
      "source": [
        "P(H) =\n"
      ],
      "metadata": {
        "id": "PVFLWuGXW7EX"
      }
    },
    {
      "cell_type": "markdown",
      "source": [
        "P(HH) ="
      ],
      "metadata": {
        "id": "kfQ33_OGb6qU"
      }
    },
    {
      "cell_type": "markdown",
      "source": [
        "P(HHT) ="
      ],
      "metadata": {
        "id": "SOa00R_kb-f7"
      }
    },
    {
      "cell_type": "markdown",
      "source": [
        "P(2H & 1T) =  "
      ],
      "metadata": {
        "id": "KDQGdVzucDtB"
      }
    },
    {
      "cell_type": "markdown",
      "source": [
        "$P(N_H; N_T) = P(H)^{N_H} * P(T)^{N_T} * {N_H + N_T \\choose  N_H} $"
      ],
      "metadata": {
        "id": "k34F3UhJcUeg"
      }
    },
    {
      "cell_type": "code",
      "source": [
        "from math import comb\n",
        "P_2H_8T = ...\n",
        "print(f\"the probability of 2H and 8T is {P_2H_8T}\")"
      ],
      "metadata": {
        "colab": {
          "base_uri": "https://localhost:8080/"
        },
        "id": "yLmXRnEmdBTR",
        "outputId": "e90d1cff-3065-4933-cbe4-93108eb4c5e7",
        "collapsed": true
      },
      "execution_count": null,
      "outputs": [
        {
          "output_type": "stream",
          "name": "stdout",
          "text": [
            "the probability of 2H and 8T is 0.0439453125\n"
          ]
        }
      ]
    },
    {
      "cell_type": "markdown",
      "source": [
        "# Fair coin"
      ],
      "metadata": {
        "id": "6LYcQ_0OG_6R"
      }
    },
    {
      "cell_type": "markdown",
      "source": [
        "The binomial distribution is the distribution that described the probability of getting outcome X $N$ times out of $M$ trials for a 2-outcome experiments with each trial with the same probability P(X).\n",
        "\n",
        "Now show binomial distribution for 30 coin tosses of a _fair_ coin."
      ],
      "metadata": {
        "id": "VztqKvMNGYVf"
      }
    },
    {
      "cell_type": "code",
      "source": [
        "import scipy as sp"
      ],
      "metadata": {
        "id": "TgAaBNGndJ_2"
      },
      "execution_count": 1,
      "outputs": []
    },
    {
      "cell_type": "code",
      "source": [
        "sp.stats.binom?"
      ],
      "metadata": {
        "id": "X1CThyEadTSe"
      },
      "execution_count": null,
      "outputs": []
    },
    {
      "cell_type": "code",
      "source": [
        "support = np.arange(0, 30)\n",
        "plt.plot(support, sp.stats.binom.pmf(support, 30, 0.5));\n",
        "plt.xlabel(\"number of heads in 30 draws\")\n",
        "plt.ylabel(\"probability\");"
      ],
      "metadata": {
        "id": "sC1PqKyVdV1h"
      },
      "execution_count": null,
      "outputs": []
    },
    {
      "cell_type": "markdown",
      "source": [
        "# vegas coin\n",
        "lets weight the coin toward tail (by 30%) and show the binomial distribution of probabilities"
      ],
      "metadata": {
        "id": "3iJpsNq-i5QB"
      }
    },
    {
      "cell_type": "code",
      "source": [],
      "metadata": {
        "id": "Id2QkVf0SywC"
      },
      "execution_count": null,
      "outputs": []
    },
    {
      "cell_type": "markdown",
      "source": [
        "Now get 10 draws from the same probability distributin, plot the histogram of outcomes, and compare it to the _theoretical_ binomial probability distributions"
      ],
      "metadata": {
        "id": "aIh8P2ryHJtI"
      }
    },
    {
      "cell_type": "code",
      "source": [
        "...\n",
        "plt.xlabel(\"number of heads in 30 draws\")\n",
        "plt.ylabel(\"frequency\");"
      ],
      "metadata": {
        "id": "lrPDXfJGjU5Y"
      },
      "execution_count": null,
      "outputs": []
    },
    {
      "cell_type": "code",
      "source": [
        "#Do it for a sample of 100\n",
        "...\n",
        "plt.xlabel(\"number of heads in 30 draws\")\n",
        "plt.ylabel(\"frequency\");"
      ],
      "metadata": {
        "id": "06zOgHwtkyuH"
      },
      "execution_count": null,
      "outputs": []
    },
    {
      "cell_type": "code",
      "source": [
        "#Do it for a sample of 1000\n",
        "...\n",
        "plt.xlabel(\"number of heads in 30 draws\")\n",
        "plt.ylabel(\"frequency\");"
      ],
      "metadata": {
        "id": "3I43tOb-eamb"
      },
      "execution_count": null,
      "outputs": []
    },
    {
      "cell_type": "markdown",
      "source": [
        "now do it for the vegas coin we used before"
      ],
      "metadata": {
        "id": "jlzzTz5bHxG5"
      }
    },
    {
      "cell_type": "code",
      "source": [
        "#vegas coin\n",
        "#Do it for a sample of 1000\n",
        "\n",
        "...\n",
        "plt.xlabel(\"number of heads in 30 draws\")\n",
        "plt.ylabel(\"frequency\");"
      ],
      "metadata": {
        "id": "2meFg1s1S8aZ"
      },
      "execution_count": null,
      "outputs": []
    },
    {
      "cell_type": "code",
      "source": [
        "# we can also do it the hacky way if we dont know or want to use a package with a fundtion that is under the hood and we dont see\n",
        "cointoss = np.zeros(10_000)\n",
        "for i in range(10_000):\n",
        "  cointoss[i] = np.round(np.random.rand(30)).sum()\n",
        "\n",
        "plt.hist(cointoss, bins=np.arange(-0.5,30), density=True);\n",
        "#cointoss\n",
        "plt.ylabel(\"frequency\")\n",
        "plt.xlabel(\"number of heads in 30 draws\");\n"
      ],
      "metadata": {
        "id": "RLcD1zuQdscF"
      },
      "execution_count": null,
      "outputs": []
    },
    {
      "cell_type": "code",
      "source": [
        "print(plt.hist(cointoss, bins=np.arange(-0.5,30), density=True)[0].sum())\n",
        "plt.plot(support, sp.stats.binom.pmf(support, 30, 0.5));\n",
        "\n",
        "plt.xlabel(\"number of heads in 30 draws\")\n",
        "plt.ylabel(\"probability\");"
      ],
      "metadata": {
        "id": "shT8L6iHgPLj"
      },
      "execution_count": null,
      "outputs": []
    },
    {
      "cell_type": "markdown",
      "source": [
        "# BAYESIAN PROBABILITY\n",
        "add a prior : you are in vegas and you are sure you are going to get tricked - assume your coin has 0 probability to get heads"
      ],
      "metadata": {
        "id": "KRH_6nw1IBaP"
      }
    },
    {
      "cell_type": "code",
      "source": [
        "#0 probability of getting heads=1, 100% probability of getting tails...\n",
        "plt.plot(x, prior, label=\"prior\")\n",
        "plt.xlabel(\"probability of H\")\n",
        "plt.yticks([0, 1], [\"head\", \"tail\"]);"
      ],
      "metadata": {
        "id": "SvbIYLSFkaBi"
      },
      "execution_count": null,
      "outputs": []
    },
    {
      "cell_type": "code",
      "source": [
        "#BAYES THEOREM:\n",
        "#Posterior = likelihood * prior / evidence ~ likelihood * priori\n",
        "x = np.linspace(0.0, 1, 100)\n",
        "likelihood = sp.stats.binom.pmf((x * 100).astype(int), 100, 0.5)\n",
        "posterior = ...\n",
        "plt.plot(x, posterior, label=\"unnormalized probability\")\n",
        "plt.xlabel(\"probability of H\")\n",
        "plt.legend();\n",
        "plt.yticks([]);"
      ],
      "metadata": {
        "id": "nDzPDWl8nB5x"
      },
      "execution_count": null,
      "outputs": []
    },
    {
      "cell_type": "code",
      "source": [
        "#try a continuous, never 0 prior\n",
        "prior = ...\n",
        "plt.plot(x, prior, label=\"prior\")\n",
        "plt.xlabel(\"probability of H\")\n",
        "plt.legend();\n",
        "plt.yticks([]);\n"
      ],
      "metadata": {
        "id": "kl3D61USnCxG"
      },
      "execution_count": null,
      "outputs": []
    },
    {
      "cell_type": "code",
      "source": [
        "posterior = ...\n",
        "plt.plot(x, posterior, label=\"unnormalized posterior unfair coin\")\n",
        "plt.plot(x, sp.stats.binom.pmf((x * 100).astype(int), 100, 0.5) / 3.45, label=\"fair coin\")\n",
        "plt.xlabel(\"probability of H\")\n",
        "plt.legend();\n",
        "plt.yticks([]);"
      ],
      "metadata": {
        "id": "iXKiafmonLuO"
      },
      "execution_count": null,
      "outputs": []
    },
    {
      "cell_type": "code",
      "source": [],
      "metadata": {
        "id": "3jNyhVsbnL-k"
      },
      "execution_count": null,
      "outputs": []
    }
  ]
}